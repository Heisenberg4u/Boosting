{
  "nbformat": 4,
  "nbformat_minor": 0,
  "metadata": {
    "colab": {
      "name": "AdaBoost,GradientBoosting&XgBoosting.ipynb",
      "provenance": [],
      "collapsed_sections": []
    },
    "kernelspec": {
      "display_name": "Python 3",
      "language": "python",
      "name": "python3"
    },
    "language_info": {
      "codemirror_mode": {
        "name": "ipython",
        "version": 3
      },
      "file_extension": ".py",
      "mimetype": "text/x-python",
      "name": "python",
      "nbconvert_exporter": "python",
      "pygments_lexer": "ipython3",
      "version": "3.8.5"
    }
  },
  "cells": [
    {
      "cell_type": "code",
      "metadata": {
        "id": "ukwUbgtNw-Aq"
      },
      "source": [
        "import numpy as np   # linear algebra\n",
        "import pandas as pd  # Data processing, Input & Output load\n",
        "import matplotlib.pyplot as plt # Visualization & plotting\n",
        "\n",
        "from sklearn.model_selection import train_test_split, GridSearchCV\n",
        "\n",
        "from sklearn.metrics import roc_auc_score\n",
        "\n",
        "import warnings   # To avoid warning messages in the code run\n",
        "warnings.filterwarnings(\"ignore\")\n",
        "pd.set_option('display.max_columns', None)\n",
        "pd.set_option('display.max_rows', None)"
      ],
      "execution_count": null,
      "outputs": []
    },
    {
      "cell_type": "code",
      "metadata": {
        "colab": {
          "base_uri": "https://localhost:8080/",
          "height": 241
        },
        "id": "Za13sTlmw-As",
        "outputId": "eb9247f7-4e8e-4519-f578-baeece74f849"
      },
      "source": [
        "# Read-in the dataset\n",
        "Insurance_Data = pd.read_csv('carInsurance_train.csv')\n",
        "print('Train Data Shape - ', Insurance_Data.shape)\n",
        "Insurance_Data.head()"
      ],
      "execution_count": null,
      "outputs": [
        {
          "output_type": "stream",
          "text": [
            "Train Data Shape -  (4000, 19)\n"
          ],
          "name": "stdout"
        },
        {
          "output_type": "execute_result",
          "data": {
            "text/html": [
              "<div>\n",
              "<style scoped>\n",
              "    .dataframe tbody tr th:only-of-type {\n",
              "        vertical-align: middle;\n",
              "    }\n",
              "\n",
              "    .dataframe tbody tr th {\n",
              "        vertical-align: top;\n",
              "    }\n",
              "\n",
              "    .dataframe thead th {\n",
              "        text-align: right;\n",
              "    }\n",
              "</style>\n",
              "<table border=\"1\" class=\"dataframe\">\n",
              "  <thead>\n",
              "    <tr style=\"text-align: right;\">\n",
              "      <th></th>\n",
              "      <th>Id</th>\n",
              "      <th>Age</th>\n",
              "      <th>Job</th>\n",
              "      <th>Marital</th>\n",
              "      <th>Education</th>\n",
              "      <th>Default</th>\n",
              "      <th>Balance</th>\n",
              "      <th>HHInsurance</th>\n",
              "      <th>CarLoan</th>\n",
              "      <th>Communication</th>\n",
              "      <th>LastContactDay</th>\n",
              "      <th>LastContactMonth</th>\n",
              "      <th>NoOfContacts</th>\n",
              "      <th>DaysPassed</th>\n",
              "      <th>PrevAttempts</th>\n",
              "      <th>Outcome</th>\n",
              "      <th>CallStart</th>\n",
              "      <th>CallEnd</th>\n",
              "      <th>CarInsurance</th>\n",
              "    </tr>\n",
              "  </thead>\n",
              "  <tbody>\n",
              "    <tr>\n",
              "      <th>0</th>\n",
              "      <td>1</td>\n",
              "      <td>32</td>\n",
              "      <td>management</td>\n",
              "      <td>single</td>\n",
              "      <td>tertiary</td>\n",
              "      <td>0</td>\n",
              "      <td>1218</td>\n",
              "      <td>1</td>\n",
              "      <td>0</td>\n",
              "      <td>telephone</td>\n",
              "      <td>28</td>\n",
              "      <td>jan</td>\n",
              "      <td>2</td>\n",
              "      <td>-1</td>\n",
              "      <td>0</td>\n",
              "      <td>NaN</td>\n",
              "      <td>13:45:20</td>\n",
              "      <td>13:46:30</td>\n",
              "      <td>0</td>\n",
              "    </tr>\n",
              "    <tr>\n",
              "      <th>1</th>\n",
              "      <td>2</td>\n",
              "      <td>32</td>\n",
              "      <td>blue-collar</td>\n",
              "      <td>married</td>\n",
              "      <td>primary</td>\n",
              "      <td>0</td>\n",
              "      <td>1156</td>\n",
              "      <td>1</td>\n",
              "      <td>0</td>\n",
              "      <td>NaN</td>\n",
              "      <td>26</td>\n",
              "      <td>may</td>\n",
              "      <td>5</td>\n",
              "      <td>-1</td>\n",
              "      <td>0</td>\n",
              "      <td>NaN</td>\n",
              "      <td>14:49:03</td>\n",
              "      <td>14:52:08</td>\n",
              "      <td>0</td>\n",
              "    </tr>\n",
              "    <tr>\n",
              "      <th>2</th>\n",
              "      <td>3</td>\n",
              "      <td>29</td>\n",
              "      <td>management</td>\n",
              "      <td>single</td>\n",
              "      <td>tertiary</td>\n",
              "      <td>0</td>\n",
              "      <td>637</td>\n",
              "      <td>1</td>\n",
              "      <td>0</td>\n",
              "      <td>cellular</td>\n",
              "      <td>3</td>\n",
              "      <td>jun</td>\n",
              "      <td>1</td>\n",
              "      <td>119</td>\n",
              "      <td>1</td>\n",
              "      <td>failure</td>\n",
              "      <td>16:30:24</td>\n",
              "      <td>16:36:04</td>\n",
              "      <td>1</td>\n",
              "    </tr>\n",
              "    <tr>\n",
              "      <th>3</th>\n",
              "      <td>4</td>\n",
              "      <td>25</td>\n",
              "      <td>student</td>\n",
              "      <td>single</td>\n",
              "      <td>primary</td>\n",
              "      <td>0</td>\n",
              "      <td>373</td>\n",
              "      <td>1</td>\n",
              "      <td>0</td>\n",
              "      <td>cellular</td>\n",
              "      <td>11</td>\n",
              "      <td>may</td>\n",
              "      <td>2</td>\n",
              "      <td>-1</td>\n",
              "      <td>0</td>\n",
              "      <td>NaN</td>\n",
              "      <td>12:06:43</td>\n",
              "      <td>12:20:22</td>\n",
              "      <td>1</td>\n",
              "    </tr>\n",
              "    <tr>\n",
              "      <th>4</th>\n",
              "      <td>5</td>\n",
              "      <td>30</td>\n",
              "      <td>management</td>\n",
              "      <td>married</td>\n",
              "      <td>tertiary</td>\n",
              "      <td>0</td>\n",
              "      <td>2694</td>\n",
              "      <td>0</td>\n",
              "      <td>0</td>\n",
              "      <td>cellular</td>\n",
              "      <td>3</td>\n",
              "      <td>jun</td>\n",
              "      <td>1</td>\n",
              "      <td>-1</td>\n",
              "      <td>0</td>\n",
              "      <td>NaN</td>\n",
              "      <td>14:35:44</td>\n",
              "      <td>14:38:56</td>\n",
              "      <td>0</td>\n",
              "    </tr>\n",
              "  </tbody>\n",
              "</table>\n",
              "</div>"
            ],
            "text/plain": [
              "   Id  Age          Job  Marital Education  Default  Balance  HHInsurance  \\\n",
              "0   1   32   management   single  tertiary        0     1218            1   \n",
              "1   2   32  blue-collar  married   primary        0     1156            1   \n",
              "2   3   29   management   single  tertiary        0      637            1   \n",
              "3   4   25      student   single   primary        0      373            1   \n",
              "4   5   30   management  married  tertiary        0     2694            0   \n",
              "\n",
              "   CarLoan Communication  LastContactDay LastContactMonth  NoOfContacts  \\\n",
              "0        0     telephone              28              jan             2   \n",
              "1        0           NaN              26              may             5   \n",
              "2        0      cellular               3              jun             1   \n",
              "3        0      cellular              11              may             2   \n",
              "4        0      cellular               3              jun             1   \n",
              "\n",
              "   DaysPassed  PrevAttempts  Outcome CallStart   CallEnd  CarInsurance  \n",
              "0          -1             0      NaN  13:45:20  13:46:30             0  \n",
              "1          -1             0      NaN  14:49:03  14:52:08             0  \n",
              "2         119             1  failure  16:30:24  16:36:04             1  \n",
              "3          -1             0      NaN  12:06:43  12:20:22             1  \n",
              "4          -1             0      NaN  14:35:44  14:38:56             0  "
            ]
          },
          "metadata": {
            "tags": []
          },
          "execution_count": 2
        }
      ]
    },
    {
      "cell_type": "code",
      "metadata": {
        "colab": {
          "base_uri": "https://localhost:8080/"
        },
        "id": "CY3_y9xyw-At",
        "outputId": "6193c172-16b8-4555-cc0d-cd6bc7e88bb5"
      },
      "source": [
        "# What type of values are stored in the columns?\n",
        "Insurance_Data.info()"
      ],
      "execution_count": null,
      "outputs": [
        {
          "output_type": "stream",
          "text": [
            "<class 'pandas.core.frame.DataFrame'>\n",
            "RangeIndex: 4000 entries, 0 to 3999\n",
            "Data columns (total 19 columns):\n",
            " #   Column            Non-Null Count  Dtype \n",
            "---  ------            --------------  ----- \n",
            " 0   Id                4000 non-null   int64 \n",
            " 1   Age               4000 non-null   int64 \n",
            " 2   Job               3981 non-null   object\n",
            " 3   Marital           4000 non-null   object\n",
            " 4   Education         3831 non-null   object\n",
            " 5   Default           4000 non-null   int64 \n",
            " 6   Balance           4000 non-null   int64 \n",
            " 7   HHInsurance       4000 non-null   int64 \n",
            " 8   CarLoan           4000 non-null   int64 \n",
            " 9   Communication     3098 non-null   object\n",
            " 10  LastContactDay    4000 non-null   int64 \n",
            " 11  LastContactMonth  4000 non-null   object\n",
            " 12  NoOfContacts      4000 non-null   int64 \n",
            " 13  DaysPassed        4000 non-null   int64 \n",
            " 14  PrevAttempts      4000 non-null   int64 \n",
            " 15  Outcome           958 non-null    object\n",
            " 16  CallStart         4000 non-null   object\n",
            " 17  CallEnd           4000 non-null   object\n",
            " 18  CarInsurance      4000 non-null   int64 \n",
            "dtypes: int64(11), object(8)\n",
            "memory usage: 593.9+ KB\n"
          ],
          "name": "stdout"
        }
      ]
    },
    {
      "cell_type": "code",
      "metadata": {
        "colab": {
          "base_uri": "https://localhost:8080/",
          "height": 410
        },
        "id": "juzuCbfVw-Au",
        "outputId": "9ed5fcd3-3c18-42a4-e551-0d2ccbdf2c12"
      },
      "source": [
        "# Let's look at some statistical information about our dataframe.\n",
        "Insurance_Data.describe(include='all')"
      ],
      "execution_count": null,
      "outputs": [
        {
          "output_type": "execute_result",
          "data": {
            "text/html": [
              "<div>\n",
              "<style scoped>\n",
              "    .dataframe tbody tr th:only-of-type {\n",
              "        vertical-align: middle;\n",
              "    }\n",
              "\n",
              "    .dataframe tbody tr th {\n",
              "        vertical-align: top;\n",
              "    }\n",
              "\n",
              "    .dataframe thead th {\n",
              "        text-align: right;\n",
              "    }\n",
              "</style>\n",
              "<table border=\"1\" class=\"dataframe\">\n",
              "  <thead>\n",
              "    <tr style=\"text-align: right;\">\n",
              "      <th></th>\n",
              "      <th>Id</th>\n",
              "      <th>Age</th>\n",
              "      <th>Job</th>\n",
              "      <th>Marital</th>\n",
              "      <th>Education</th>\n",
              "      <th>Default</th>\n",
              "      <th>Balance</th>\n",
              "      <th>HHInsurance</th>\n",
              "      <th>CarLoan</th>\n",
              "      <th>Communication</th>\n",
              "      <th>LastContactDay</th>\n",
              "      <th>LastContactMonth</th>\n",
              "      <th>NoOfContacts</th>\n",
              "      <th>DaysPassed</th>\n",
              "      <th>PrevAttempts</th>\n",
              "      <th>Outcome</th>\n",
              "      <th>CallStart</th>\n",
              "      <th>CallEnd</th>\n",
              "      <th>CarInsurance</th>\n",
              "    </tr>\n",
              "  </thead>\n",
              "  <tbody>\n",
              "    <tr>\n",
              "      <th>count</th>\n",
              "      <td>4000.000000</td>\n",
              "      <td>4000.000000</td>\n",
              "      <td>3981</td>\n",
              "      <td>4000</td>\n",
              "      <td>3831</td>\n",
              "      <td>4000.000000</td>\n",
              "      <td>4000.000000</td>\n",
              "      <td>4000.00000</td>\n",
              "      <td>4000.000000</td>\n",
              "      <td>3098</td>\n",
              "      <td>4000.000000</td>\n",
              "      <td>4000</td>\n",
              "      <td>4000.000000</td>\n",
              "      <td>4000.000000</td>\n",
              "      <td>4000.000000</td>\n",
              "      <td>958</td>\n",
              "      <td>4000</td>\n",
              "      <td>4000</td>\n",
              "      <td>4000.000000</td>\n",
              "    </tr>\n",
              "    <tr>\n",
              "      <th>unique</th>\n",
              "      <td>NaN</td>\n",
              "      <td>NaN</td>\n",
              "      <td>11</td>\n",
              "      <td>3</td>\n",
              "      <td>3</td>\n",
              "      <td>NaN</td>\n",
              "      <td>NaN</td>\n",
              "      <td>NaN</td>\n",
              "      <td>NaN</td>\n",
              "      <td>2</td>\n",
              "      <td>NaN</td>\n",
              "      <td>12</td>\n",
              "      <td>NaN</td>\n",
              "      <td>NaN</td>\n",
              "      <td>NaN</td>\n",
              "      <td>3</td>\n",
              "      <td>3777</td>\n",
              "      <td>3764</td>\n",
              "      <td>NaN</td>\n",
              "    </tr>\n",
              "    <tr>\n",
              "      <th>top</th>\n",
              "      <td>NaN</td>\n",
              "      <td>NaN</td>\n",
              "      <td>management</td>\n",
              "      <td>married</td>\n",
              "      <td>secondary</td>\n",
              "      <td>NaN</td>\n",
              "      <td>NaN</td>\n",
              "      <td>NaN</td>\n",
              "      <td>NaN</td>\n",
              "      <td>cellular</td>\n",
              "      <td>NaN</td>\n",
              "      <td>may</td>\n",
              "      <td>NaN</td>\n",
              "      <td>NaN</td>\n",
              "      <td>NaN</td>\n",
              "      <td>failure</td>\n",
              "      <td>17:02:39</td>\n",
              "      <td>10:22:30</td>\n",
              "      <td>NaN</td>\n",
              "    </tr>\n",
              "    <tr>\n",
              "      <th>freq</th>\n",
              "      <td>NaN</td>\n",
              "      <td>NaN</td>\n",
              "      <td>893</td>\n",
              "      <td>2304</td>\n",
              "      <td>1988</td>\n",
              "      <td>NaN</td>\n",
              "      <td>NaN</td>\n",
              "      <td>NaN</td>\n",
              "      <td>NaN</td>\n",
              "      <td>2831</td>\n",
              "      <td>NaN</td>\n",
              "      <td>1049</td>\n",
              "      <td>NaN</td>\n",
              "      <td>NaN</td>\n",
              "      <td>NaN</td>\n",
              "      <td>437</td>\n",
              "      <td>3</td>\n",
              "      <td>3</td>\n",
              "      <td>NaN</td>\n",
              "    </tr>\n",
              "    <tr>\n",
              "      <th>mean</th>\n",
              "      <td>2000.500000</td>\n",
              "      <td>41.214750</td>\n",
              "      <td>NaN</td>\n",
              "      <td>NaN</td>\n",
              "      <td>NaN</td>\n",
              "      <td>0.014500</td>\n",
              "      <td>1532.937250</td>\n",
              "      <td>0.49275</td>\n",
              "      <td>0.133000</td>\n",
              "      <td>NaN</td>\n",
              "      <td>15.721250</td>\n",
              "      <td>NaN</td>\n",
              "      <td>2.607250</td>\n",
              "      <td>48.706500</td>\n",
              "      <td>0.717500</td>\n",
              "      <td>NaN</td>\n",
              "      <td>NaN</td>\n",
              "      <td>NaN</td>\n",
              "      <td>0.401000</td>\n",
              "    </tr>\n",
              "    <tr>\n",
              "      <th>std</th>\n",
              "      <td>1154.844867</td>\n",
              "      <td>11.550194</td>\n",
              "      <td>NaN</td>\n",
              "      <td>NaN</td>\n",
              "      <td>NaN</td>\n",
              "      <td>0.119555</td>\n",
              "      <td>3511.452489</td>\n",
              "      <td>0.50001</td>\n",
              "      <td>0.339617</td>\n",
              "      <td>NaN</td>\n",
              "      <td>8.425307</td>\n",
              "      <td>NaN</td>\n",
              "      <td>3.064204</td>\n",
              "      <td>106.685385</td>\n",
              "      <td>2.078647</td>\n",
              "      <td>NaN</td>\n",
              "      <td>NaN</td>\n",
              "      <td>NaN</td>\n",
              "      <td>0.490162</td>\n",
              "    </tr>\n",
              "    <tr>\n",
              "      <th>min</th>\n",
              "      <td>1.000000</td>\n",
              "      <td>18.000000</td>\n",
              "      <td>NaN</td>\n",
              "      <td>NaN</td>\n",
              "      <td>NaN</td>\n",
              "      <td>0.000000</td>\n",
              "      <td>-3058.000000</td>\n",
              "      <td>0.00000</td>\n",
              "      <td>0.000000</td>\n",
              "      <td>NaN</td>\n",
              "      <td>1.000000</td>\n",
              "      <td>NaN</td>\n",
              "      <td>1.000000</td>\n",
              "      <td>-1.000000</td>\n",
              "      <td>0.000000</td>\n",
              "      <td>NaN</td>\n",
              "      <td>NaN</td>\n",
              "      <td>NaN</td>\n",
              "      <td>0.000000</td>\n",
              "    </tr>\n",
              "    <tr>\n",
              "      <th>25%</th>\n",
              "      <td>1000.750000</td>\n",
              "      <td>32.000000</td>\n",
              "      <td>NaN</td>\n",
              "      <td>NaN</td>\n",
              "      <td>NaN</td>\n",
              "      <td>0.000000</td>\n",
              "      <td>111.000000</td>\n",
              "      <td>0.00000</td>\n",
              "      <td>0.000000</td>\n",
              "      <td>NaN</td>\n",
              "      <td>8.000000</td>\n",
              "      <td>NaN</td>\n",
              "      <td>1.000000</td>\n",
              "      <td>-1.000000</td>\n",
              "      <td>0.000000</td>\n",
              "      <td>NaN</td>\n",
              "      <td>NaN</td>\n",
              "      <td>NaN</td>\n",
              "      <td>0.000000</td>\n",
              "    </tr>\n",
              "    <tr>\n",
              "      <th>50%</th>\n",
              "      <td>2000.500000</td>\n",
              "      <td>39.000000</td>\n",
              "      <td>NaN</td>\n",
              "      <td>NaN</td>\n",
              "      <td>NaN</td>\n",
              "      <td>0.000000</td>\n",
              "      <td>551.500000</td>\n",
              "      <td>0.00000</td>\n",
              "      <td>0.000000</td>\n",
              "      <td>NaN</td>\n",
              "      <td>16.000000</td>\n",
              "      <td>NaN</td>\n",
              "      <td>2.000000</td>\n",
              "      <td>-1.000000</td>\n",
              "      <td>0.000000</td>\n",
              "      <td>NaN</td>\n",
              "      <td>NaN</td>\n",
              "      <td>NaN</td>\n",
              "      <td>0.000000</td>\n",
              "    </tr>\n",
              "    <tr>\n",
              "      <th>75%</th>\n",
              "      <td>3000.250000</td>\n",
              "      <td>49.000000</td>\n",
              "      <td>NaN</td>\n",
              "      <td>NaN</td>\n",
              "      <td>NaN</td>\n",
              "      <td>0.000000</td>\n",
              "      <td>1619.000000</td>\n",
              "      <td>1.00000</td>\n",
              "      <td>0.000000</td>\n",
              "      <td>NaN</td>\n",
              "      <td>22.000000</td>\n",
              "      <td>NaN</td>\n",
              "      <td>3.000000</td>\n",
              "      <td>-1.000000</td>\n",
              "      <td>0.000000</td>\n",
              "      <td>NaN</td>\n",
              "      <td>NaN</td>\n",
              "      <td>NaN</td>\n",
              "      <td>1.000000</td>\n",
              "    </tr>\n",
              "    <tr>\n",
              "      <th>max</th>\n",
              "      <td>4000.000000</td>\n",
              "      <td>95.000000</td>\n",
              "      <td>NaN</td>\n",
              "      <td>NaN</td>\n",
              "      <td>NaN</td>\n",
              "      <td>1.000000</td>\n",
              "      <td>98417.000000</td>\n",
              "      <td>1.00000</td>\n",
              "      <td>1.000000</td>\n",
              "      <td>NaN</td>\n",
              "      <td>31.000000</td>\n",
              "      <td>NaN</td>\n",
              "      <td>43.000000</td>\n",
              "      <td>854.000000</td>\n",
              "      <td>58.000000</td>\n",
              "      <td>NaN</td>\n",
              "      <td>NaN</td>\n",
              "      <td>NaN</td>\n",
              "      <td>1.000000</td>\n",
              "    </tr>\n",
              "  </tbody>\n",
              "</table>\n",
              "</div>"
            ],
            "text/plain": [
              "                 Id          Age         Job  Marital  Education      Default  \\\n",
              "count   4000.000000  4000.000000        3981     4000       3831  4000.000000   \n",
              "unique          NaN          NaN          11        3          3          NaN   \n",
              "top             NaN          NaN  management  married  secondary          NaN   \n",
              "freq            NaN          NaN         893     2304       1988          NaN   \n",
              "mean    2000.500000    41.214750         NaN      NaN        NaN     0.014500   \n",
              "std     1154.844867    11.550194         NaN      NaN        NaN     0.119555   \n",
              "min        1.000000    18.000000         NaN      NaN        NaN     0.000000   \n",
              "25%     1000.750000    32.000000         NaN      NaN        NaN     0.000000   \n",
              "50%     2000.500000    39.000000         NaN      NaN        NaN     0.000000   \n",
              "75%     3000.250000    49.000000         NaN      NaN        NaN     0.000000   \n",
              "max     4000.000000    95.000000         NaN      NaN        NaN     1.000000   \n",
              "\n",
              "             Balance  HHInsurance      CarLoan Communication  LastContactDay  \\\n",
              "count    4000.000000   4000.00000  4000.000000          3098     4000.000000   \n",
              "unique           NaN          NaN          NaN             2             NaN   \n",
              "top              NaN          NaN          NaN      cellular             NaN   \n",
              "freq             NaN          NaN          NaN          2831             NaN   \n",
              "mean     1532.937250      0.49275     0.133000           NaN       15.721250   \n",
              "std      3511.452489      0.50001     0.339617           NaN        8.425307   \n",
              "min     -3058.000000      0.00000     0.000000           NaN        1.000000   \n",
              "25%       111.000000      0.00000     0.000000           NaN        8.000000   \n",
              "50%       551.500000      0.00000     0.000000           NaN       16.000000   \n",
              "75%      1619.000000      1.00000     0.000000           NaN       22.000000   \n",
              "max     98417.000000      1.00000     1.000000           NaN       31.000000   \n",
              "\n",
              "       LastContactMonth  NoOfContacts   DaysPassed  PrevAttempts  Outcome  \\\n",
              "count              4000   4000.000000  4000.000000   4000.000000      958   \n",
              "unique               12           NaN          NaN           NaN        3   \n",
              "top                 may           NaN          NaN           NaN  failure   \n",
              "freq               1049           NaN          NaN           NaN      437   \n",
              "mean                NaN      2.607250    48.706500      0.717500      NaN   \n",
              "std                 NaN      3.064204   106.685385      2.078647      NaN   \n",
              "min                 NaN      1.000000    -1.000000      0.000000      NaN   \n",
              "25%                 NaN      1.000000    -1.000000      0.000000      NaN   \n",
              "50%                 NaN      2.000000    -1.000000      0.000000      NaN   \n",
              "75%                 NaN      3.000000    -1.000000      0.000000      NaN   \n",
              "max                 NaN     43.000000   854.000000     58.000000      NaN   \n",
              "\n",
              "       CallStart   CallEnd  CarInsurance  \n",
              "count       4000      4000   4000.000000  \n",
              "unique      3777      3764           NaN  \n",
              "top     17:02:39  10:22:30           NaN  \n",
              "freq           3         3           NaN  \n",
              "mean         NaN       NaN      0.401000  \n",
              "std          NaN       NaN      0.490162  \n",
              "min          NaN       NaN      0.000000  \n",
              "25%          NaN       NaN      0.000000  \n",
              "50%          NaN       NaN      0.000000  \n",
              "75%          NaN       NaN      1.000000  \n",
              "max          NaN       NaN      1.000000  "
            ]
          },
          "metadata": {
            "tags": []
          },
          "execution_count": 4
        }
      ]
    },
    {
      "cell_type": "code",
      "metadata": {
        "colab": {
          "base_uri": "https://localhost:8080/",
          "height": 173
        },
        "id": "zZWmUKITw-Au",
        "outputId": "a64f51bd-8e24-4a3c-d5e4-244e44fc3120"
      },
      "source": [
        "# This is how we can get summary for the categorical data\n",
        "Insurance_Data.describe(include=np.object)"
      ],
      "execution_count": null,
      "outputs": [
        {
          "output_type": "execute_result",
          "data": {
            "text/html": [
              "<div>\n",
              "<style scoped>\n",
              "    .dataframe tbody tr th:only-of-type {\n",
              "        vertical-align: middle;\n",
              "    }\n",
              "\n",
              "    .dataframe tbody tr th {\n",
              "        vertical-align: top;\n",
              "    }\n",
              "\n",
              "    .dataframe thead th {\n",
              "        text-align: right;\n",
              "    }\n",
              "</style>\n",
              "<table border=\"1\" class=\"dataframe\">\n",
              "  <thead>\n",
              "    <tr style=\"text-align: right;\">\n",
              "      <th></th>\n",
              "      <th>Job</th>\n",
              "      <th>Marital</th>\n",
              "      <th>Education</th>\n",
              "      <th>Communication</th>\n",
              "      <th>LastContactMonth</th>\n",
              "      <th>Outcome</th>\n",
              "      <th>CallStart</th>\n",
              "      <th>CallEnd</th>\n",
              "    </tr>\n",
              "  </thead>\n",
              "  <tbody>\n",
              "    <tr>\n",
              "      <th>count</th>\n",
              "      <td>3981</td>\n",
              "      <td>4000</td>\n",
              "      <td>3831</td>\n",
              "      <td>3098</td>\n",
              "      <td>4000</td>\n",
              "      <td>958</td>\n",
              "      <td>4000</td>\n",
              "      <td>4000</td>\n",
              "    </tr>\n",
              "    <tr>\n",
              "      <th>unique</th>\n",
              "      <td>11</td>\n",
              "      <td>3</td>\n",
              "      <td>3</td>\n",
              "      <td>2</td>\n",
              "      <td>12</td>\n",
              "      <td>3</td>\n",
              "      <td>3777</td>\n",
              "      <td>3764</td>\n",
              "    </tr>\n",
              "    <tr>\n",
              "      <th>top</th>\n",
              "      <td>management</td>\n",
              "      <td>married</td>\n",
              "      <td>secondary</td>\n",
              "      <td>cellular</td>\n",
              "      <td>may</td>\n",
              "      <td>failure</td>\n",
              "      <td>17:02:39</td>\n",
              "      <td>10:22:30</td>\n",
              "    </tr>\n",
              "    <tr>\n",
              "      <th>freq</th>\n",
              "      <td>893</td>\n",
              "      <td>2304</td>\n",
              "      <td>1988</td>\n",
              "      <td>2831</td>\n",
              "      <td>1049</td>\n",
              "      <td>437</td>\n",
              "      <td>3</td>\n",
              "      <td>3</td>\n",
              "    </tr>\n",
              "  </tbody>\n",
              "</table>\n",
              "</div>"
            ],
            "text/plain": [
              "               Job  Marital  Education Communication LastContactMonth  \\\n",
              "count         3981     4000       3831          3098             4000   \n",
              "unique          11        3          3             2               12   \n",
              "top     management  married  secondary      cellular              may   \n",
              "freq           893     2304       1988          2831             1049   \n",
              "\n",
              "        Outcome CallStart   CallEnd  \n",
              "count       958      4000      4000  \n",
              "unique        3      3777      3764  \n",
              "top     failure  17:02:39  10:22:30  \n",
              "freq        437         3         3  "
            ]
          },
          "metadata": {
            "tags": []
          },
          "execution_count": 5
        }
      ]
    },
    {
      "cell_type": "code",
      "metadata": {
        "colab": {
          "base_uri": "https://localhost:8080/",
          "height": 142
        },
        "id": "zM4XvTiIw-Av",
        "outputId": "39d478b7-49d7-4229-8999-c7318a12e9fb"
      },
      "source": [
        "Target = 'CarInsurance'\n",
        "# pd.crosstab(Insurance_Data[Target], columns='N', normalize=True)\n",
        "pd.crosstab(Insurance_Data[Target], columns='N')\n",
        "# pd.crosstab(Insurance_Data[Target], columns='N')"
      ],
      "execution_count": null,
      "outputs": [
        {
          "output_type": "execute_result",
          "data": {
            "text/html": [
              "<div>\n",
              "<style scoped>\n",
              "    .dataframe tbody tr th:only-of-type {\n",
              "        vertical-align: middle;\n",
              "    }\n",
              "\n",
              "    .dataframe tbody tr th {\n",
              "        vertical-align: top;\n",
              "    }\n",
              "\n",
              "    .dataframe thead th {\n",
              "        text-align: right;\n",
              "    }\n",
              "</style>\n",
              "<table border=\"1\" class=\"dataframe\">\n",
              "  <thead>\n",
              "    <tr style=\"text-align: right;\">\n",
              "      <th>col_0</th>\n",
              "      <th>N</th>\n",
              "    </tr>\n",
              "    <tr>\n",
              "      <th>CarInsurance</th>\n",
              "      <th></th>\n",
              "    </tr>\n",
              "  </thead>\n",
              "  <tbody>\n",
              "    <tr>\n",
              "      <th>0</th>\n",
              "      <td>2396</td>\n",
              "    </tr>\n",
              "    <tr>\n",
              "      <th>1</th>\n",
              "      <td>1604</td>\n",
              "    </tr>\n",
              "  </tbody>\n",
              "</table>\n",
              "</div>"
            ],
            "text/plain": [
              "col_0            N\n",
              "CarInsurance      \n",
              "0             2396\n",
              "1             1604"
            ]
          },
          "metadata": {
            "tags": []
          },
          "execution_count": 6
        }
      ]
    },
    {
      "cell_type": "code",
      "metadata": {
        "id": "8XOBpkJhw-Av"
      },
      "source": [
        "num_cols = Insurance_Data.select_dtypes(include=[np.number]).columns.tolist()\n",
        "non_num_cols = Insurance_Data.select_dtypes(exclude=[np.number]).columns.tolist()"
      ],
      "execution_count": null,
      "outputs": []
    },
    {
      "cell_type": "code",
      "metadata": {
        "colab": {
          "base_uri": "https://localhost:8080/"
        },
        "id": "vpmmrNxFw-Aw",
        "outputId": "de98fb95-a8f3-4a7f-ff6e-922134b58e6e"
      },
      "source": [
        "num_cols"
      ],
      "execution_count": null,
      "outputs": [
        {
          "output_type": "execute_result",
          "data": {
            "text/plain": [
              "['Id',\n",
              " 'Age',\n",
              " 'Default',\n",
              " 'Balance',\n",
              " 'HHInsurance',\n",
              " 'CarLoan',\n",
              " 'LastContactDay',\n",
              " 'NoOfContacts',\n",
              " 'DaysPassed',\n",
              " 'PrevAttempts',\n",
              " 'CarInsurance']"
            ]
          },
          "metadata": {
            "tags": []
          },
          "execution_count": 8
        }
      ]
    },
    {
      "cell_type": "code",
      "metadata": {
        "colab": {
          "base_uri": "https://localhost:8080/"
        },
        "id": "SDcKWb8aw-Aw",
        "outputId": "44759ddb-c833-46e2-90d3-a70f7652d6e5"
      },
      "source": [
        "non_num_cols"
      ],
      "execution_count": null,
      "outputs": [
        {
          "output_type": "execute_result",
          "data": {
            "text/plain": [
              "['Job',\n",
              " 'Marital',\n",
              " 'Education',\n",
              " 'Communication',\n",
              " 'LastContactMonth',\n",
              " 'Outcome',\n",
              " 'CallStart',\n",
              " 'CallEnd']"
            ]
          },
          "metadata": {
            "tags": []
          },
          "execution_count": 9
        }
      ]
    },
    {
      "cell_type": "code",
      "metadata": {
        "id": "m93UkAdOw-Ax"
      },
      "source": [
        "# Lets drop columns which we will not use\n",
        "num_cols = Insurance_Data.drop(['Id', 'CarInsurance'],axis=1).select_dtypes(include=[np.number]).columns.tolist()\n",
        "non_num_cols = Insurance_Data.drop(['CallStart', 'CallEnd'],axis=1).select_dtypes(exclude=[np.number]).columns.tolist()"
      ],
      "execution_count": null,
      "outputs": []
    },
    {
      "cell_type": "code",
      "metadata": {
        "colab": {
          "base_uri": "https://localhost:8080/"
        },
        "id": "PBlKhbK3w-Ax",
        "outputId": "39a41cd4-12a8-4503-a7d8-4413ef5b063e"
      },
      "source": [
        "print('Numeric Columns \\n', num_cols)\n",
        "print('Non-Numeric Columns \\n', non_num_cols)"
      ],
      "execution_count": null,
      "outputs": [
        {
          "output_type": "stream",
          "text": [
            "Numeric Columns \n",
            " ['Age', 'Default', 'Balance', 'HHInsurance', 'CarLoan', 'LastContactDay', 'NoOfContacts', 'DaysPassed', 'PrevAttempts']\n",
            "Non-Numeric Columns \n",
            " ['Job', 'Marital', 'Education', 'Communication', 'LastContactMonth', 'Outcome']\n"
          ],
          "name": "stdout"
        }
      ]
    },
    {
      "cell_type": "code",
      "metadata": {
        "colab": {
          "base_uri": "https://localhost:8080/",
          "height": 1000
        },
        "id": "29AochCuw-Ax",
        "scrolled": false,
        "outputId": "1f526f8a-8de3-490e-fdd1-fc0432c98747"
      },
      "source": [
        "# Lets drop CarLoan, HHInsurance, Default from the numeric columns as these are dummies\n",
        "num_cols_viz = ['DaysPassed', 'Age', 'NoOfContacts', 'PrevAttempts', 'LastContactDay', 'Balance']\n",
        "\n",
        "fig, axes = plt.subplots(3,2,sharex=False,sharey=False, figsize=(15,15))\n",
        "Insurance_Data.loc[:,[Target]+num_cols_viz].boxplot(by=Target, ax=axes)"
      ],
      "execution_count": null,
      "outputs": [
        {
          "output_type": "execute_result",
          "data": {
            "text/plain": [
              "array([<matplotlib.axes._subplots.AxesSubplot object at 0x7f3d1bb7f090>,\n",
              "       <matplotlib.axes._subplots.AxesSubplot object at 0x7f3d1bb4ac90>,\n",
              "       <matplotlib.axes._subplots.AxesSubplot object at 0x7f3d1bb0e310>,\n",
              "       <matplotlib.axes._subplots.AxesSubplot object at 0x7f3d1bac3950>,\n",
              "       <matplotlib.axes._subplots.AxesSubplot object at 0x7f3d1ba89050>,\n",
              "       <matplotlib.axes._subplots.AxesSubplot object at 0x7f3d1ba3b610>],\n",
              "      dtype=object)"
            ]
          },
          "metadata": {
            "tags": []
          },
          "execution_count": 12
        },
        {
          "output_type": "display_data",
          "data": {
            "image/png": "[encoded data removed]",
            "text/plain": [
              "<Figure size 1080x1080 with 6 Axes>"
            ]
          },
          "metadata": {
            "tags": [],
            "needs_background": "light"
          }
        }
      ]
    },
    {
      "cell_type": "code",
      "metadata": {
        "colab": {
          "base_uri": "https://localhost:8080/",
          "height": 1000
        },
        "id": "INeLekvvw-Az",
        "scrolled": false,
        "outputId": "3e9bd56a-17ed-4b99-8821-0ada397441b4"
      },
      "source": [
        "non_num_cols_viz = non_num_cols+['CarLoan', 'HHInsurance', 'Default']\n",
        "fig, axes = plt.subplots(len(non_num_cols_viz),sharex=False,sharey=False, figsize=(15,50))\n",
        "for i in range(len(non_num_cols_viz)):\n",
        "    pd.crosstab(Insurance_Data[non_num_cols_viz[i]], Insurance_Data[Target]).plot(kind='bar', \n",
        "                                                                                  stacked=True, \n",
        "                                                                                  grid=False, \n",
        "                                                                                  ax=axes[i],\n",
        "                                                                                  rot=0)"
      ],
      "execution_count": null,
      "outputs": [
        {
          "output_type": "display_data",
          "data": {
            "image/png": "[encoded data removed]",
            "text/plain": [
              "<Figure size 1080x3600 with 9 Axes>"
            ]
          },
          "metadata": {
            "tags": [],
            "needs_background": "light"
          }
        }
      ]
    },
    {
      "cell_type": "code",
      "metadata": {
        "colab": {
          "base_uri": "https://localhost:8080/",
          "height": 421
        },
        "id": "HE2FPm9kw-Az",
        "outputId": "9140bea5-0465-4a9b-8d0f-1a7811986e84"
      },
      "source": [
        "# pd.crosstab(Insurance_Data['Job'], Insurance_Data[Target])#columns='N')\n",
        "pd.crosstab(Insurance_Data['Job'], columns='Count')"
      ],
      "execution_count": null,
      "outputs": [
        {
          "output_type": "execute_result",
          "data": {
            "text/html": [
              "<div>\n",
              "<style scoped>\n",
              "    .dataframe tbody tr th:only-of-type {\n",
              "        vertical-align: middle;\n",
              "    }\n",
              "\n",
              "    .dataframe tbody tr th {\n",
              "        vertical-align: top;\n",
              "    }\n",
              "\n",
              "    .dataframe thead th {\n",
              "        text-align: right;\n",
              "    }\n",
              "</style>\n",
              "<table border=\"1\" class=\"dataframe\">\n",
              "  <thead>\n",
              "    <tr style=\"text-align: right;\">\n",
              "      <th>col_0</th>\n",
              "      <th>Count</th>\n",
              "    </tr>\n",
              "    <tr>\n",
              "      <th>Job</th>\n",
              "      <th></th>\n",
              "    </tr>\n",
              "  </thead>\n",
              "  <tbody>\n",
              "    <tr>\n",
              "      <th>admin.</th>\n",
              "      <td>459</td>\n",
              "    </tr>\n",
              "    <tr>\n",
              "      <th>blue-collar</th>\n",
              "      <td>759</td>\n",
              "    </tr>\n",
              "    <tr>\n",
              "      <th>entrepreneur</th>\n",
              "      <td>121</td>\n",
              "    </tr>\n",
              "    <tr>\n",
              "      <th>housemaid</th>\n",
              "      <td>109</td>\n",
              "    </tr>\n",
              "    <tr>\n",
              "      <th>management</th>\n",
              "      <td>893</td>\n",
              "    </tr>\n",
              "    <tr>\n",
              "      <th>retired</th>\n",
              "      <td>249</td>\n",
              "    </tr>\n",
              "    <tr>\n",
              "      <th>self-employed</th>\n",
              "      <td>140</td>\n",
              "    </tr>\n",
              "    <tr>\n",
              "      <th>services</th>\n",
              "      <td>330</td>\n",
              "    </tr>\n",
              "    <tr>\n",
              "      <th>student</th>\n",
              "      <td>131</td>\n",
              "    </tr>\n",
              "    <tr>\n",
              "      <th>technician</th>\n",
              "      <td>660</td>\n",
              "    </tr>\n",
              "    <tr>\n",
              "      <th>unemployed</th>\n",
              "      <td>130</td>\n",
              "    </tr>\n",
              "  </tbody>\n",
              "</table>\n",
              "</div>"
            ],
            "text/plain": [
              "col_0          Count\n",
              "Job                 \n",
              "admin.           459\n",
              "blue-collar      759\n",
              "entrepreneur     121\n",
              "housemaid        109\n",
              "management       893\n",
              "retired          249\n",
              "self-employed    140\n",
              "services         330\n",
              "student          131\n",
              "technician       660\n",
              "unemployed       130"
            ]
          },
          "metadata": {
            "tags": []
          },
          "execution_count": 14
        }
      ]
    },
    {
      "cell_type": "code",
      "metadata": {
        "colab": {
          "base_uri": "https://localhost:8080/"
        },
        "id": "pUHNiP7Hw-Az",
        "outputId": "de438316-436e-47ca-e6d1-44cf77237800"
      },
      "source": [
        "Insurance_Data.isnull().sum()"
      ],
      "execution_count": null,
      "outputs": [
        {
          "output_type": "execute_result",
          "data": {
            "text/plain": [
              "Id                     0\n",
              "Age                    0\n",
              "Job                   19\n",
              "Marital                0\n",
              "Education            169\n",
              "Default                0\n",
              "Balance                0\n",
              "HHInsurance            0\n",
              "CarLoan                0\n",
              "Communication        902\n",
              "LastContactDay         0\n",
              "LastContactMonth       0\n",
              "NoOfContacts           0\n",
              "DaysPassed             0\n",
              "PrevAttempts           0\n",
              "Outcome             3042\n",
              "CallStart              0\n",
              "CallEnd                0\n",
              "CarInsurance           0\n",
              "dtype: int64"
            ]
          },
          "metadata": {
            "tags": []
          },
          "execution_count": 15
        }
      ]
    },
    {
      "cell_type": "code",
      "metadata": {
        "id": "hVdVHpHww-A0"
      },
      "source": [
        "Insurance_Data_Org = Insurance_Data.copy()"
      ],
      "execution_count": null,
      "outputs": []
    },
    {
      "cell_type": "code",
      "metadata": {
        "colab": {
          "base_uri": "https://localhost:8080/"
        },
        "id": "5_Pkwq8Zw-A0",
        "outputId": "461581e7-d18b-489b-804a-4060d168514f"
      },
      "source": [
        "Insurance_Data['Job'].value_counts(dropna=False)"
      ],
      "execution_count": null,
      "outputs": [
        {
          "output_type": "execute_result",
          "data": {
            "text/plain": [
              "management       893\n",
              "blue-collar      759\n",
              "technician       660\n",
              "admin.           459\n",
              "services         330\n",
              "retired          249\n",
              "self-employed    140\n",
              "student          131\n",
              "unemployed       130\n",
              "entrepreneur     121\n",
              "housemaid        109\n",
              "NaN               19\n",
              "Name: Job, dtype: int64"
            ]
          },
          "metadata": {
            "tags": []
          },
          "execution_count": 17
        }
      ]
    },
    {
      "cell_type": "code",
      "metadata": {
        "colab": {
          "base_uri": "https://localhost:8080/"
        },
        "id": "TKsGe7Wlw-A0",
        "outputId": "c7f64d52-857f-4ce7-aac7-0e2356938c38"
      },
      "source": [
        "Insurance_Data['Job'] = Insurance_Data['Job'].fillna('None')\n",
        "Insurance_Data['Job'].isnull().sum()"
      ],
      "execution_count": null,
      "outputs": [
        {
          "output_type": "execute_result",
          "data": {
            "text/plain": [
              "0"
            ]
          },
          "metadata": {
            "tags": []
          },
          "execution_count": 18
        }
      ]
    },
    {
      "cell_type": "code",
      "metadata": {
        "colab": {
          "base_uri": "https://localhost:8080/"
        },
        "id": "0XTQK0LEw-A0",
        "outputId": "432aeae7-f86b-45f0-917d-23f2866ea622"
      },
      "source": [
        "Insurance_Data['Job'].value_counts()"
      ],
      "execution_count": null,
      "outputs": [
        {
          "output_type": "execute_result",
          "data": {
            "text/plain": [
              "management       893\n",
              "blue-collar      759\n",
              "technician       660\n",
              "admin.           459\n",
              "services         330\n",
              "retired          249\n",
              "self-employed    140\n",
              "student          131\n",
              "unemployed       130\n",
              "entrepreneur     121\n",
              "housemaid        109\n",
              "None              19\n",
              "Name: Job, dtype: int64"
            ]
          },
          "metadata": {
            "tags": []
          },
          "execution_count": 19
        }
      ]
    },
    {
      "cell_type": "code",
      "metadata": {
        "colab": {
          "base_uri": "https://localhost:8080/"
        },
        "id": "h00JR3HAw-A0",
        "outputId": "e97a665f-fbc1-4681-a0d9-8fff6188036a"
      },
      "source": [
        "# Fill missing education with the most common education level by job type\n",
        "\n",
        "# Create job-education level mode mapping\n",
        "edu_mode=[]\n",
        "\n",
        "# What are different Job Types\n",
        "job_types = Insurance_Data.Job.value_counts().index\n",
        "job_types"
      ],
      "execution_count": null,
      "outputs": [
        {
          "output_type": "execute_result",
          "data": {
            "text/plain": [
              "Index(['management', 'blue-collar', 'technician', 'admin.', 'services',\n",
              "       'retired', 'self-employed', 'student', 'unemployed', 'entrepreneur',\n",
              "       'housemaid', 'None'],\n",
              "      dtype='object')"
            ]
          },
          "metadata": {
            "tags": []
          },
          "execution_count": 20
        }
      ]
    },
    {
      "cell_type": "code",
      "metadata": {
        "colab": {
          "base_uri": "https://localhost:8080/"
        },
        "id": "xCq-sOXdw-A1",
        "outputId": "665783e4-8fe3-4c72-b556-f750d0f98076"
      },
      "source": [
        "# Now according to the job type we will crate a mapping where the job and mode of education is there.\n",
        "# It means when there are many people in the managment job then most of them are in which education.\n",
        "# We can find that in below mapping\n",
        "\n",
        "for job in job_types:\n",
        "    mode = Insurance_Data[Insurance_Data.Job==job]['Education'].value_counts().nlargest(1).index\n",
        "    edu_mode = np.append(edu_mode,mode)\n",
        "edu_map=pd.Series(edu_mode,index=Insurance_Data.Job.value_counts().index)\n",
        "\n",
        "edu_map"
      ],
      "execution_count": null,
      "outputs": [
        {
          "output_type": "execute_result",
          "data": {
            "text/plain": [
              "management        tertiary\n",
              "blue-collar      secondary\n",
              "technician       secondary\n",
              "admin.           secondary\n",
              "services         secondary\n",
              "retired          secondary\n",
              "self-employed     tertiary\n",
              "student          secondary\n",
              "unemployed       secondary\n",
              "entrepreneur      tertiary\n",
              "housemaid          primary\n",
              "None             secondary\n",
              "dtype: object"
            ]
          },
          "metadata": {
            "tags": []
          },
          "execution_count": 21
        }
      ]
    },
    {
      "cell_type": "code",
      "metadata": {
        "id": "QmUUJcvfw-A1"
      },
      "source": [
        "# Apply the mapping to missing education obs. We will replace education now by jobs value\n",
        "for j in job_types:\n",
        "    Insurance_Data.loc[(Insurance_Data['Education'].isnull()) & (Insurance_Data['Job']==j),'Education'] = edu_map.loc[edu_map.index==j][0]\n",
        "\n",
        "# For those who are not getting mapped we will create a new category as None\n",
        "Insurance_Data['Education'].fillna('None',inplace=True)"
      ],
      "execution_count": null,
      "outputs": []
    },
    {
      "cell_type": "code",
      "metadata": {
        "colab": {
          "base_uri": "https://localhost:8080/"
        },
        "id": "xbLEBDUVw-A1",
        "outputId": "c6cf7912-0e58-4c39-9827-653bf5638c6b"
      },
      "source": [
        "Insurance_Data.isnull().sum()"
      ],
      "execution_count": null,
      "outputs": [
        {
          "output_type": "execute_result",
          "data": {
            "text/plain": [
              "Id                     0\n",
              "Age                    0\n",
              "Job                    0\n",
              "Marital                0\n",
              "Education              0\n",
              "Default                0\n",
              "Balance                0\n",
              "HHInsurance            0\n",
              "CarLoan                0\n",
              "Communication        902\n",
              "LastContactDay         0\n",
              "LastContactMonth       0\n",
              "NoOfContacts           0\n",
              "DaysPassed             0\n",
              "PrevAttempts           0\n",
              "Outcome             3042\n",
              "CallStart              0\n",
              "CallEnd                0\n",
              "CarInsurance           0\n",
              "dtype: int64"
            ]
          },
          "metadata": {
            "tags": []
          },
          "execution_count": 23
        }
      ]
    },
    {
      "cell_type": "code",
      "metadata": {
        "colab": {
          "base_uri": "https://localhost:8080/"
        },
        "id": "jeQLsTOvw-A1",
        "outputId": "fe1c74d5-b1c6-4344-cf65-f2e6d0133efa"
      },
      "source": [
        "# Fill missing communication with none \n",
        "Insurance_Data['Communication'].value_counts(dropna=False)"
      ],
      "execution_count": null,
      "outputs": [
        {
          "output_type": "execute_result",
          "data": {
            "text/plain": [
              "cellular     2831\n",
              "NaN           902\n",
              "telephone     267\n",
              "Name: Communication, dtype: int64"
            ]
          },
          "metadata": {
            "tags": []
          },
          "execution_count": 24
        }
      ]
    },
    {
      "cell_type": "code",
      "metadata": {
        "id": "b03RLx5xw-A1"
      },
      "source": [
        "Insurance_Data['Communication'] = Insurance_Data['Communication'].fillna('None')"
      ],
      "execution_count": null,
      "outputs": []
    },
    {
      "cell_type": "code",
      "metadata": {
        "colab": {
          "base_uri": "https://localhost:8080/"
        },
        "id": "w2_4Iwe-w-A2",
        "outputId": "b3bfb1c3-be84-4ddf-91c3-c0274734cb53"
      },
      "source": [
        "# Check for missing value in Outcome\n",
        "Insurance_Data['Outcome'].value_counts(dropna=False)"
      ],
      "execution_count": null,
      "outputs": [
        {
          "output_type": "execute_result",
          "data": {
            "text/plain": [
              "NaN        3042\n",
              "failure     437\n",
              "success     326\n",
              "other       195\n",
              "Name: Outcome, dtype: int64"
            ]
          },
          "metadata": {
            "tags": []
          },
          "execution_count": 26
        }
      ]
    },
    {
      "cell_type": "code",
      "metadata": {
        "colab": {
          "base_uri": "https://localhost:8080/"
        },
        "id": "NvYpTrMRw-A2",
        "outputId": "c02c649a-6de3-441f-c47d-9a2b8a14c54a"
      },
      "source": [
        "# Fill missing outcome as not in previous campaign, we are adding one category to Outcome\n",
        "# We will add category if the value of DaysPassed is -1\n",
        "\n",
        "Insurance_Data.loc[Insurance_Data['DaysPassed']==-1,'Outcome']= 'NoPrev'\n",
        "Insurance_Data['Outcome'].value_counts(dropna=False)"
      ],
      "execution_count": null,
      "outputs": [
        {
          "output_type": "execute_result",
          "data": {
            "text/plain": [
              "NoPrev     3042\n",
              "failure     437\n",
              "success     326\n",
              "other       195\n",
              "Name: Outcome, dtype: int64"
            ]
          },
          "metadata": {
            "tags": []
          },
          "execution_count": 27
        }
      ]
    },
    {
      "cell_type": "code",
      "metadata": {
        "colab": {
          "base_uri": "https://localhost:8080/"
        },
        "id": "NQF3lPeYw-A2",
        "outputId": "550d8d52-d55f-40af-f1a9-84fd3a50c741"
      },
      "source": [
        "# Check if we have any missing values left\n",
        "Insurance_Data.isnull().sum()"
      ],
      "execution_count": null,
      "outputs": [
        {
          "output_type": "execute_result",
          "data": {
            "text/plain": [
              "Id                  0\n",
              "Age                 0\n",
              "Job                 0\n",
              "Marital             0\n",
              "Education           0\n",
              "Default             0\n",
              "Balance             0\n",
              "HHInsurance         0\n",
              "CarLoan             0\n",
              "Communication       0\n",
              "LastContactDay      0\n",
              "LastContactMonth    0\n",
              "NoOfContacts        0\n",
              "DaysPassed          0\n",
              "PrevAttempts        0\n",
              "Outcome             0\n",
              "CallStart           0\n",
              "CallEnd             0\n",
              "CarInsurance        0\n",
              "dtype: int64"
            ]
          },
          "metadata": {
            "tags": []
          },
          "execution_count": 28
        }
      ]
    },
    {
      "cell_type": "code",
      "metadata": {
        "id": "joxhSj9iw-A2"
      },
      "source": [
        "Insurance_Data_num = Insurance_Data[num_cols+['Id', 'CarInsurance']]"
      ],
      "execution_count": null,
      "outputs": []
    },
    {
      "cell_type": "code",
      "metadata": {
        "colab": {
          "base_uri": "https://localhost:8080/"
        },
        "id": "56rmBVvhw-A2",
        "outputId": "ece957bc-27e2-425a-c334-b27587c05396"
      },
      "source": [
        "# Categorical columns data\n",
        "Insurance_Data_cat = Insurance_Data[non_num_cols]\n",
        "non_num_cols"
      ],
      "execution_count": null,
      "outputs": [
        {
          "output_type": "execute_result",
          "data": {
            "text/plain": [
              "['Job', 'Marital', 'Education', 'Communication', 'LastContactMonth', 'Outcome']"
            ]
          },
          "metadata": {
            "tags": []
          },
          "execution_count": 30
        }
      ]
    },
    {
      "cell_type": "code",
      "metadata": {
        "colab": {
          "base_uri": "https://localhost:8080/",
          "height": 258
        },
        "id": "byRfruD3w-A2",
        "outputId": "27b87e0f-0f5d-45f4-eda2-a70778aae8cb"
      },
      "source": [
        "# Create dummies\n",
        "Insurance_Data_cat_dummies = pd.get_dummies(Insurance_Data_cat)  #One-Hot Embedding\n",
        "print(Insurance_Data_cat_dummies.shape)\n",
        "Insurance_Data_cat_dummies.head()"
      ],
      "execution_count": null,
      "outputs": [
        {
          "output_type": "stream",
          "text": [
            "(4000, 37)\n"
          ],
          "name": "stdout"
        },
        {
          "output_type": "execute_result",
          "data": {
            "text/html": [
              "<div>\n",
              "<style scoped>\n",
              "    .dataframe tbody tr th:only-of-type {\n",
              "        vertical-align: middle;\n",
              "    }\n",
              "\n",
              "    .dataframe tbody tr th {\n",
              "        vertical-align: top;\n",
              "    }\n",
              "\n",
              "    .dataframe thead th {\n",
              "        text-align: right;\n",
              "    }\n",
              "</style>\n",
              "<table border=\"1\" class=\"dataframe\">\n",
              "  <thead>\n",
              "    <tr style=\"text-align: right;\">\n",
              "      <th></th>\n",
              "      <th>Job_None</th>\n",
              "      <th>Job_admin.</th>\n",
              "      <th>Job_blue-collar</th>\n",
              "      <th>Job_entrepreneur</th>\n",
              "      <th>Job_housemaid</th>\n",
              "      <th>Job_management</th>\n",
              "      <th>Job_retired</th>\n",
              "      <th>Job_self-employed</th>\n",
              "      <th>Job_services</th>\n",
              "      <th>Job_student</th>\n",
              "      <th>Job_technician</th>\n",
              "      <th>Job_unemployed</th>\n",
              "      <th>Marital_divorced</th>\n",
              "      <th>Marital_married</th>\n",
              "      <th>Marital_single</th>\n",
              "      <th>Education_primary</th>\n",
              "      <th>Education_secondary</th>\n",
              "      <th>Education_tertiary</th>\n",
              "      <th>Communication_None</th>\n",
              "      <th>Communication_cellular</th>\n",
              "      <th>Communication_telephone</th>\n",
              "      <th>LastContactMonth_apr</th>\n",
              "      <th>LastContactMonth_aug</th>\n",
              "      <th>LastContactMonth_dec</th>\n",
              "      <th>LastContactMonth_feb</th>\n",
              "      <th>LastContactMonth_jan</th>\n",
              "      <th>LastContactMonth_jul</th>\n",
              "      <th>LastContactMonth_jun</th>\n",
              "      <th>LastContactMonth_mar</th>\n",
              "      <th>LastContactMonth_may</th>\n",
              "      <th>LastContactMonth_nov</th>\n",
              "      <th>LastContactMonth_oct</th>\n",
              "      <th>LastContactMonth_sep</th>\n",
              "      <th>Outcome_NoPrev</th>\n",
              "      <th>Outcome_failure</th>\n",
              "      <th>Outcome_other</th>\n",
              "      <th>Outcome_success</th>\n",
              "    </tr>\n",
              "  </thead>\n",
              "  <tbody>\n",
              "    <tr>\n",
              "      <th>0</th>\n",
              "      <td>0</td>\n",
              "      <td>0</td>\n",
              "      <td>0</td>\n",
              "      <td>0</td>\n",
              "      <td>0</td>\n",
              "      <td>1</td>\n",
              "      <td>0</td>\n",
              "      <td>0</td>\n",
              "      <td>0</td>\n",
              "      <td>0</td>\n",
              "      <td>0</td>\n",
              "      <td>0</td>\n",
              "      <td>0</td>\n",
              "      <td>0</td>\n",
              "      <td>1</td>\n",
              "      <td>0</td>\n",
              "      <td>0</td>\n",
              "      <td>1</td>\n",
              "      <td>0</td>\n",
              "      <td>0</td>\n",
              "      <td>1</td>\n",
              "      <td>0</td>\n",
              "      <td>0</td>\n",
              "      <td>0</td>\n",
              "      <td>0</td>\n",
              "      <td>1</td>\n",
              "      <td>0</td>\n",
              "      <td>0</td>\n",
              "      <td>0</td>\n",
              "      <td>0</td>\n",
              "      <td>0</td>\n",
              "      <td>0</td>\n",
              "      <td>0</td>\n",
              "      <td>1</td>\n",
              "      <td>0</td>\n",
              "      <td>0</td>\n",
              "      <td>0</td>\n",
              "    </tr>\n",
              "    <tr>\n",
              "      <th>1</th>\n",
              "      <td>0</td>\n",
              "      <td>0</td>\n",
              "      <td>1</td>\n",
              "      <td>0</td>\n",
              "      <td>0</td>\n",
              "      <td>0</td>\n",
              "      <td>0</td>\n",
              "      <td>0</td>\n",
              "      <td>0</td>\n",
              "      <td>0</td>\n",
              "      <td>0</td>\n",
              "      <td>0</td>\n",
              "      <td>0</td>\n",
              "      <td>1</td>\n",
              "      <td>0</td>\n",
              "      <td>1</td>\n",
              "      <td>0</td>\n",
              "      <td>0</td>\n",
              "      <td>1</td>\n",
              "      <td>0</td>\n",
              "      <td>0</td>\n",
              "      <td>0</td>\n",
              "      <td>0</td>\n",
              "      <td>0</td>\n",
              "      <td>0</td>\n",
              "      <td>0</td>\n",
              "      <td>0</td>\n",
              "      <td>0</td>\n",
              "      <td>0</td>\n",
              "      <td>1</td>\n",
              "      <td>0</td>\n",
              "      <td>0</td>\n",
              "      <td>0</td>\n",
              "      <td>1</td>\n",
              "      <td>0</td>\n",
              "      <td>0</td>\n",
              "      <td>0</td>\n",
              "    </tr>\n",
              "    <tr>\n",
              "      <th>2</th>\n",
              "      <td>0</td>\n",
              "      <td>0</td>\n",
              "      <td>0</td>\n",
              "      <td>0</td>\n",
              "      <td>0</td>\n",
              "      <td>1</td>\n",
              "      <td>0</td>\n",
              "      <td>0</td>\n",
              "      <td>0</td>\n",
              "      <td>0</td>\n",
              "      <td>0</td>\n",
              "      <td>0</td>\n",
              "      <td>0</td>\n",
              "      <td>0</td>\n",
              "      <td>1</td>\n",
              "      <td>0</td>\n",
              "      <td>0</td>\n",
              "      <td>1</td>\n",
              "      <td>0</td>\n",
              "      <td>1</td>\n",
              "      <td>0</td>\n",
              "      <td>0</td>\n",
              "      <td>0</td>\n",
              "      <td>0</td>\n",
              "      <td>0</td>\n",
              "      <td>0</td>\n",
              "      <td>0</td>\n",
              "      <td>1</td>\n",
              "      <td>0</td>\n",
              "      <td>0</td>\n",
              "      <td>0</td>\n",
              "      <td>0</td>\n",
              "      <td>0</td>\n",
              "      <td>0</td>\n",
              "      <td>1</td>\n",
              "      <td>0</td>\n",
              "      <td>0</td>\n",
              "    </tr>\n",
              "    <tr>\n",
              "      <th>3</th>\n",
              "      <td>0</td>\n",
              "      <td>0</td>\n",
              "      <td>0</td>\n",
              "      <td>0</td>\n",
              "      <td>0</td>\n",
              "      <td>0</td>\n",
              "      <td>0</td>\n",
              "      <td>0</td>\n",
              "      <td>0</td>\n",
              "      <td>1</td>\n",
              "      <td>0</td>\n",
              "      <td>0</td>\n",
              "      <td>0</td>\n",
              "      <td>0</td>\n",
              "      <td>1</td>\n",
              "      <td>1</td>\n",
              "      <td>0</td>\n",
              "      <td>0</td>\n",
              "      <td>0</td>\n",
              "      <td>1</td>\n",
              "      <td>0</td>\n",
              "      <td>0</td>\n",
              "      <td>0</td>\n",
              "      <td>0</td>\n",
              "      <td>0</td>\n",
              "      <td>0</td>\n",
              "      <td>0</td>\n",
              "      <td>0</td>\n",
              "      <td>0</td>\n",
              "      <td>1</td>\n",
              "      <td>0</td>\n",
              "      <td>0</td>\n",
              "      <td>0</td>\n",
              "      <td>1</td>\n",
              "      <td>0</td>\n",
              "      <td>0</td>\n",
              "      <td>0</td>\n",
              "    </tr>\n",
              "    <tr>\n",
              "      <th>4</th>\n",
              "      <td>0</td>\n",
              "      <td>0</td>\n",
              "      <td>0</td>\n",
              "      <td>0</td>\n",
              "      <td>0</td>\n",
              "      <td>1</td>\n",
              "      <td>0</td>\n",
              "      <td>0</td>\n",
              "      <td>0</td>\n",
              "      <td>0</td>\n",
              "      <td>0</td>\n",
              "      <td>0</td>\n",
              "      <td>0</td>\n",
              "      <td>1</td>\n",
              "      <td>0</td>\n",
              "      <td>0</td>\n",
              "      <td>0</td>\n",
              "      <td>1</td>\n",
              "      <td>0</td>\n",
              "      <td>1</td>\n",
              "      <td>0</td>\n",
              "      <td>0</td>\n",
              "      <td>0</td>\n",
              "      <td>0</td>\n",
              "      <td>0</td>\n",
              "      <td>0</td>\n",
              "      <td>0</td>\n",
              "      <td>1</td>\n",
              "      <td>0</td>\n",
              "      <td>0</td>\n",
              "      <td>0</td>\n",
              "      <td>0</td>\n",
              "      <td>0</td>\n",
              "      <td>1</td>\n",
              "      <td>0</td>\n",
              "      <td>0</td>\n",
              "      <td>0</td>\n",
              "    </tr>\n",
              "  </tbody>\n",
              "</table>\n",
              "</div>"
            ],
            "text/plain": [
              "   Job_None  Job_admin.  Job_blue-collar  Job_entrepreneur  Job_housemaid  \\\n",
              "0         0           0                0                 0              0   \n",
              "1         0           0                1                 0              0   \n",
              "2         0           0                0                 0              0   \n",
              "3         0           0                0                 0              0   \n",
              "4         0           0                0                 0              0   \n",
              "\n",
              "   Job_management  Job_retired  Job_self-employed  Job_services  Job_student  \\\n",
              "0               1            0                  0             0            0   \n",
              "1               0            0                  0             0            0   \n",
              "2               1            0                  0             0            0   \n",
              "3               0            0                  0             0            1   \n",
              "4               1            0                  0             0            0   \n",
              "\n",
              "   Job_technician  Job_unemployed  Marital_divorced  Marital_married  \\\n",
              "0               0               0                 0                0   \n",
              "1               0               0                 0                1   \n",
              "2               0               0                 0                0   \n",
              "3               0               0                 0                0   \n",
              "4               0               0                 0                1   \n",
              "\n",
              "   Marital_single  Education_primary  Education_secondary  Education_tertiary  \\\n",
              "0               1                  0                    0                   1   \n",
              "1               0                  1                    0                   0   \n",
              "2               1                  0                    0                   1   \n",
              "3               1                  1                    0                   0   \n",
              "4               0                  0                    0                   1   \n",
              "\n",
              "   Communication_None  Communication_cellular  Communication_telephone  \\\n",
              "0                   0                       0                        1   \n",
              "1                   1                       0                        0   \n",
              "2                   0                       1                        0   \n",
              "3                   0                       1                        0   \n",
              "4                   0                       1                        0   \n",
              "\n",
              "   LastContactMonth_apr  LastContactMonth_aug  LastContactMonth_dec  \\\n",
              "0                     0                     0                     0   \n",
              "1                     0                     0                     0   \n",
              "2                     0                     0                     0   \n",
              "3                     0                     0                     0   \n",
              "4                     0                     0                     0   \n",
              "\n",
              "   LastContactMonth_feb  LastContactMonth_jan  LastContactMonth_jul  \\\n",
              "0                     0                     1                     0   \n",
              "1                     0                     0                     0   \n",
              "2                     0                     0                     0   \n",
              "3                     0                     0                     0   \n",
              "4                     0                     0                     0   \n",
              "\n",
              "   LastContactMonth_jun  LastContactMonth_mar  LastContactMonth_may  \\\n",
              "0                     0                     0                     0   \n",
              "1                     0                     0                     1   \n",
              "2                     1                     0                     0   \n",
              "3                     0                     0                     1   \n",
              "4                     1                     0                     0   \n",
              "\n",
              "   LastContactMonth_nov  LastContactMonth_oct  LastContactMonth_sep  \\\n",
              "0                     0                     0                     0   \n",
              "1                     0                     0                     0   \n",
              "2                     0                     0                     0   \n",
              "3                     0                     0                     0   \n",
              "4                     0                     0                     0   \n",
              "\n",
              "   Outcome_NoPrev  Outcome_failure  Outcome_other  Outcome_success  \n",
              "0               1                0              0                0  \n",
              "1               1                0              0                0  \n",
              "2               0                1              0                0  \n",
              "3               1                0              0                0  \n",
              "4               1                0              0                0  "
            ]
          },
          "metadata": {
            "tags": []
          },
          "execution_count": 31
        }
      ]
    },
    {
      "cell_type": "code",
      "metadata": {
        "colab": {
          "base_uri": "https://localhost:8080/",
          "height": 258
        },
        "id": "bRtEOu6fw-A3",
        "outputId": "be241230-ac47-40b1-b01c-911391ea38a3"
      },
      "source": [
        "Insurance_Data_final = pd.concat([Insurance_Data_num, Insurance_Data_cat_dummies], axis=1)\n",
        "print(Insurance_Data_final.shape)\n",
        "Insurance_Data_final.head()"
      ],
      "execution_count": null,
      "outputs": [
        {
          "output_type": "stream",
          "text": [
            "(4000, 48)\n"
          ],
          "name": "stdout"
        },
        {
          "output_type": "execute_result",
          "data": {
            "text/html": [
              "<div>\n",
              "<style scoped>\n",
              "    .dataframe tbody tr th:only-of-type {\n",
              "        vertical-align: middle;\n",
              "    }\n",
              "\n",
              "    .dataframe tbody tr th {\n",
              "        vertical-align: top;\n",
              "    }\n",
              "\n",
              "    .dataframe thead th {\n",
              "        text-align: right;\n",
              "    }\n",
              "</style>\n",
              "<table border=\"1\" class=\"dataframe\">\n",
              "  <thead>\n",
              "    <tr style=\"text-align: right;\">\n",
              "      <th></th>\n",
              "      <th>Age</th>\n",
              "      <th>Default</th>\n",
              "      <th>Balance</th>\n",
              "      <th>HHInsurance</th>\n",
              "      <th>CarLoan</th>\n",
              "      <th>LastContactDay</th>\n",
              "      <th>NoOfContacts</th>\n",
              "      <th>DaysPassed</th>\n",
              "      <th>PrevAttempts</th>\n",
              "      <th>Id</th>\n",
              "      <th>CarInsurance</th>\n",
              "      <th>Job_None</th>\n",
              "      <th>Job_admin.</th>\n",
              "      <th>Job_blue-collar</th>\n",
              "      <th>Job_entrepreneur</th>\n",
              "      <th>Job_housemaid</th>\n",
              "      <th>Job_management</th>\n",
              "      <th>Job_retired</th>\n",
              "      <th>Job_self-employed</th>\n",
              "      <th>Job_services</th>\n",
              "      <th>Job_student</th>\n",
              "      <th>Job_technician</th>\n",
              "      <th>Job_unemployed</th>\n",
              "      <th>Marital_divorced</th>\n",
              "      <th>Marital_married</th>\n",
              "      <th>Marital_single</th>\n",
              "      <th>Education_primary</th>\n",
              "      <th>Education_secondary</th>\n",
              "      <th>Education_tertiary</th>\n",
              "      <th>Communication_None</th>\n",
              "      <th>Communication_cellular</th>\n",
              "      <th>Communication_telephone</th>\n",
              "      <th>LastContactMonth_apr</th>\n",
              "      <th>LastContactMonth_aug</th>\n",
              "      <th>LastContactMonth_dec</th>\n",
              "      <th>LastContactMonth_feb</th>\n",
              "      <th>LastContactMonth_jan</th>\n",
              "      <th>LastContactMonth_jul</th>\n",
              "      <th>LastContactMonth_jun</th>\n",
              "      <th>LastContactMonth_mar</th>\n",
              "      <th>LastContactMonth_may</th>\n",
              "      <th>LastContactMonth_nov</th>\n",
              "      <th>LastContactMonth_oct</th>\n",
              "      <th>LastContactMonth_sep</th>\n",
              "      <th>Outcome_NoPrev</th>\n",
              "      <th>Outcome_failure</th>\n",
              "      <th>Outcome_other</th>\n",
              "      <th>Outcome_success</th>\n",
              "    </tr>\n",
              "  </thead>\n",
              "  <tbody>\n",
              "    <tr>\n",
              "      <th>0</th>\n",
              "      <td>32</td>\n",
              "      <td>0</td>\n",
              "      <td>1218</td>\n",
              "      <td>1</td>\n",
              "      <td>0</td>\n",
              "      <td>28</td>\n",
              "      <td>2</td>\n",
              "      <td>-1</td>\n",
              "      <td>0</td>\n",
              "      <td>1</td>\n",
              "      <td>0</td>\n",
              "      <td>0</td>\n",
              "      <td>0</td>\n",
              "      <td>0</td>\n",
              "      <td>0</td>\n",
              "      <td>0</td>\n",
              "      <td>1</td>\n",
              "      <td>0</td>\n",
              "      <td>0</td>\n",
              "      <td>0</td>\n",
              "      <td>0</td>\n",
              "      <td>0</td>\n",
              "      <td>0</td>\n",
              "      <td>0</td>\n",
              "      <td>0</td>\n",
              "      <td>1</td>\n",
              "      <td>0</td>\n",
              "      <td>0</td>\n",
              "      <td>1</td>\n",
              "      <td>0</td>\n",
              "      <td>0</td>\n",
              "      <td>1</td>\n",
              "      <td>0</td>\n",
              "      <td>0</td>\n",
              "      <td>0</td>\n",
              "      <td>0</td>\n",
              "      <td>1</td>\n",
              "      <td>0</td>\n",
              "      <td>0</td>\n",
              "      <td>0</td>\n",
              "      <td>0</td>\n",
              "      <td>0</td>\n",
              "      <td>0</td>\n",
              "      <td>0</td>\n",
              "      <td>1</td>\n",
              "      <td>0</td>\n",
              "      <td>0</td>\n",
              "      <td>0</td>\n",
              "    </tr>\n",
              "    <tr>\n",
              "      <th>1</th>\n",
              "      <td>32</td>\n",
              "      <td>0</td>\n",
              "      <td>1156</td>\n",
              "      <td>1</td>\n",
              "      <td>0</td>\n",
              "      <td>26</td>\n",
              "      <td>5</td>\n",
              "      <td>-1</td>\n",
              "      <td>0</td>\n",
              "      <td>2</td>\n",
              "      <td>0</td>\n",
              "      <td>0</td>\n",
              "      <td>0</td>\n",
              "      <td>1</td>\n",
              "      <td>0</td>\n",
              "      <td>0</td>\n",
              "      <td>0</td>\n",
              "      <td>0</td>\n",
              "      <td>0</td>\n",
              "      <td>0</td>\n",
              "      <td>0</td>\n",
              "      <td>0</td>\n",
              "      <td>0</td>\n",
              "      <td>0</td>\n",
              "      <td>1</td>\n",
              "      <td>0</td>\n",
              "      <td>1</td>\n",
              "      <td>0</td>\n",
              "      <td>0</td>\n",
              "      <td>1</td>\n",
              "      <td>0</td>\n",
              "      <td>0</td>\n",
              "      <td>0</td>\n",
              "      <td>0</td>\n",
              "      <td>0</td>\n",
              "      <td>0</td>\n",
              "      <td>0</td>\n",
              "      <td>0</td>\n",
              "      <td>0</td>\n",
              "      <td>0</td>\n",
              "      <td>1</td>\n",
              "      <td>0</td>\n",
              "      <td>0</td>\n",
              "      <td>0</td>\n",
              "      <td>1</td>\n",
              "      <td>0</td>\n",
              "      <td>0</td>\n",
              "      <td>0</td>\n",
              "    </tr>\n",
              "    <tr>\n",
              "      <th>2</th>\n",
              "      <td>29</td>\n",
              "      <td>0</td>\n",
              "      <td>637</td>\n",
              "      <td>1</td>\n",
              "      <td>0</td>\n",
              "      <td>3</td>\n",
              "      <td>1</td>\n",
              "      <td>119</td>\n",
              "      <td>1</td>\n",
              "      <td>3</td>\n",
              "      <td>1</td>\n",
              "      <td>0</td>\n",
              "      <td>0</td>\n",
              "      <td>0</td>\n",
              "      <td>0</td>\n",
              "      <td>0</td>\n",
              "      <td>1</td>\n",
              "      <td>0</td>\n",
              "      <td>0</td>\n",
              "      <td>0</td>\n",
              "      <td>0</td>\n",
              "      <td>0</td>\n",
              "      <td>0</td>\n",
              "      <td>0</td>\n",
              "      <td>0</td>\n",
              "      <td>1</td>\n",
              "      <td>0</td>\n",
              "      <td>0</td>\n",
              "      <td>1</td>\n",
              "      <td>0</td>\n",
              "      <td>1</td>\n",
              "      <td>0</td>\n",
              "      <td>0</td>\n",
              "      <td>0</td>\n",
              "      <td>0</td>\n",
              "      <td>0</td>\n",
              "      <td>0</td>\n",
              "      <td>0</td>\n",
              "      <td>1</td>\n",
              "      <td>0</td>\n",
              "      <td>0</td>\n",
              "      <td>0</td>\n",
              "      <td>0</td>\n",
              "      <td>0</td>\n",
              "      <td>0</td>\n",
              "      <td>1</td>\n",
              "      <td>0</td>\n",
              "      <td>0</td>\n",
              "    </tr>\n",
              "    <tr>\n",
              "      <th>3</th>\n",
              "      <td>25</td>\n",
              "      <td>0</td>\n",
              "      <td>373</td>\n",
              "      <td>1</td>\n",
              "      <td>0</td>\n",
              "      <td>11</td>\n",
              "      <td>2</td>\n",
              "      <td>-1</td>\n",
              "      <td>0</td>\n",
              "      <td>4</td>\n",
              "      <td>1</td>\n",
              "      <td>0</td>\n",
              "      <td>0</td>\n",
              "      <td>0</td>\n",
              "      <td>0</td>\n",
              "      <td>0</td>\n",
              "      <td>0</td>\n",
              "      <td>0</td>\n",
              "      <td>0</td>\n",
              "      <td>0</td>\n",
              "      <td>1</td>\n",
              "      <td>0</td>\n",
              "      <td>0</td>\n",
              "      <td>0</td>\n",
              "      <td>0</td>\n",
              "      <td>1</td>\n",
              "      <td>1</td>\n",
              "      <td>0</td>\n",
              "      <td>0</td>\n",
              "      <td>0</td>\n",
              "      <td>1</td>\n",
              "      <td>0</td>\n",
              "      <td>0</td>\n",
              "      <td>0</td>\n",
              "      <td>0</td>\n",
              "      <td>0</td>\n",
              "      <td>0</td>\n",
              "      <td>0</td>\n",
              "      <td>0</td>\n",
              "      <td>0</td>\n",
              "      <td>1</td>\n",
              "      <td>0</td>\n",
              "      <td>0</td>\n",
              "      <td>0</td>\n",
              "      <td>1</td>\n",
              "      <td>0</td>\n",
              "      <td>0</td>\n",
              "      <td>0</td>\n",
              "    </tr>\n",
              "    <tr>\n",
              "      <th>4</th>\n",
              "      <td>30</td>\n",
              "      <td>0</td>\n",
              "      <td>2694</td>\n",
              "      <td>0</td>\n",
              "      <td>0</td>\n",
              "      <td>3</td>\n",
              "      <td>1</td>\n",
              "      <td>-1</td>\n",
              "      <td>0</td>\n",
              "      <td>5</td>\n",
              "      <td>0</td>\n",
              "      <td>0</td>\n",
              "      <td>0</td>\n",
              "      <td>0</td>\n",
              "      <td>0</td>\n",
              "      <td>0</td>\n",
              "      <td>1</td>\n",
              "      <td>0</td>\n",
              "      <td>0</td>\n",
              "      <td>0</td>\n",
              "      <td>0</td>\n",
              "      <td>0</td>\n",
              "      <td>0</td>\n",
              "      <td>0</td>\n",
              "      <td>1</td>\n",
              "      <td>0</td>\n",
              "      <td>0</td>\n",
              "      <td>0</td>\n",
              "      <td>1</td>\n",
              "      <td>0</td>\n",
              "      <td>1</td>\n",
              "      <td>0</td>\n",
              "      <td>0</td>\n",
              "      <td>0</td>\n",
              "      <td>0</td>\n",
              "      <td>0</td>\n",
              "      <td>0</td>\n",
              "      <td>0</td>\n",
              "      <td>1</td>\n",
              "      <td>0</td>\n",
              "      <td>0</td>\n",
              "      <td>0</td>\n",
              "      <td>0</td>\n",
              "      <td>0</td>\n",
              "      <td>1</td>\n",
              "      <td>0</td>\n",
              "      <td>0</td>\n",
              "      <td>0</td>\n",
              "    </tr>\n",
              "  </tbody>\n",
              "</table>\n",
              "</div>"
            ],
            "text/plain": [
              "   Age  Default  Balance  HHInsurance  CarLoan  LastContactDay  NoOfContacts  \\\n",
              "0   32        0     1218            1        0              28             2   \n",
              "1   32        0     1156            1        0              26             5   \n",
              "2   29        0      637            1        0               3             1   \n",
              "3   25        0      373            1        0              11             2   \n",
              "4   30        0     2694            0        0               3             1   \n",
              "\n",
              "   DaysPassed  PrevAttempts  Id  CarInsurance  Job_None  Job_admin.  \\\n",
              "0          -1             0   1             0         0           0   \n",
              "1          -1             0   2             0         0           0   \n",
              "2         119             1   3             1         0           0   \n",
              "3          -1             0   4             1         0           0   \n",
              "4          -1             0   5             0         0           0   \n",
              "\n",
              "   Job_blue-collar  Job_entrepreneur  Job_housemaid  Job_management  \\\n",
              "0                0                 0              0               1   \n",
              "1                1                 0              0               0   \n",
              "2                0                 0              0               1   \n",
              "3                0                 0              0               0   \n",
              "4                0                 0              0               1   \n",
              "\n",
              "   Job_retired  Job_self-employed  Job_services  Job_student  Job_technician  \\\n",
              "0            0                  0             0            0               0   \n",
              "1            0                  0             0            0               0   \n",
              "2            0                  0             0            0               0   \n",
              "3            0                  0             0            1               0   \n",
              "4            0                  0             0            0               0   \n",
              "\n",
              "   Job_unemployed  Marital_divorced  Marital_married  Marital_single  \\\n",
              "0               0                 0                0               1   \n",
              "1               0                 0                1               0   \n",
              "2               0                 0                0               1   \n",
              "3               0                 0                0               1   \n",
              "4               0                 0                1               0   \n",
              "\n",
              "   Education_primary  Education_secondary  Education_tertiary  \\\n",
              "0                  0                    0                   1   \n",
              "1                  1                    0                   0   \n",
              "2                  0                    0                   1   \n",
              "3                  1                    0                   0   \n",
              "4                  0                    0                   1   \n",
              "\n",
              "   Communication_None  Communication_cellular  Communication_telephone  \\\n",
              "0                   0                       0                        1   \n",
              "1                   1                       0                        0   \n",
              "2                   0                       1                        0   \n",
              "3                   0                       1                        0   \n",
              "4                   0                       1                        0   \n",
              "\n",
              "   LastContactMonth_apr  LastContactMonth_aug  LastContactMonth_dec  \\\n",
              "0                     0                     0                     0   \n",
              "1                     0                     0                     0   \n",
              "2                     0                     0                     0   \n",
              "3                     0                     0                     0   \n",
              "4                     0                     0                     0   \n",
              "\n",
              "   LastContactMonth_feb  LastContactMonth_jan  LastContactMonth_jul  \\\n",
              "0                     0                     1                     0   \n",
              "1                     0                     0                     0   \n",
              "2                     0                     0                     0   \n",
              "3                     0                     0                     0   \n",
              "4                     0                     0                     0   \n",
              "\n",
              "   LastContactMonth_jun  LastContactMonth_mar  LastContactMonth_may  \\\n",
              "0                     0                     0                     0   \n",
              "1                     0                     0                     1   \n",
              "2                     1                     0                     0   \n",
              "3                     0                     0                     1   \n",
              "4                     1                     0                     0   \n",
              "\n",
              "   LastContactMonth_nov  LastContactMonth_oct  LastContactMonth_sep  \\\n",
              "0                     0                     0                     0   \n",
              "1                     0                     0                     0   \n",
              "2                     0                     0                     0   \n",
              "3                     0                     0                     0   \n",
              "4                     0                     0                     0   \n",
              "\n",
              "   Outcome_NoPrev  Outcome_failure  Outcome_other  Outcome_success  \n",
              "0               1                0              0                0  \n",
              "1               1                0              0                0  \n",
              "2               0                1              0                0  \n",
              "3               1                0              0                0  \n",
              "4               1                0              0                0  "
            ]
          },
          "metadata": {
            "tags": []
          },
          "execution_count": 32
        }
      ]
    },
    {
      "cell_type": "code",
      "metadata": {
        "colab": {
          "base_uri": "https://localhost:8080/"
        },
        "id": "3PZE2CHJw-A3",
        "outputId": "1d88a9c3-aee4-4ce5-ca42-a2a3bc65a74f"
      },
      "source": [
        "# Checking if there are missing values before we run model\n",
        "Insurance_Data_final.isnull().sum(axis = 0)"
      ],
      "execution_count": null,
      "outputs": [
        {
          "output_type": "execute_result",
          "data": {
            "text/plain": [
              "Age                        0\n",
              "Default                    0\n",
              "Balance                    0\n",
              "HHInsurance                0\n",
              "CarLoan                    0\n",
              "LastContactDay             0\n",
              "NoOfContacts               0\n",
              "DaysPassed                 0\n",
              "PrevAttempts               0\n",
              "Id                         0\n",
              "CarInsurance               0\n",
              "Job_None                   0\n",
              "Job_admin.                 0\n",
              "Job_blue-collar            0\n",
              "Job_entrepreneur           0\n",
              "Job_housemaid              0\n",
              "Job_management             0\n",
              "Job_retired                0\n",
              "Job_self-employed          0\n",
              "Job_services               0\n",
              "Job_student                0\n",
              "Job_technician             0\n",
              "Job_unemployed             0\n",
              "Marital_divorced           0\n",
              "Marital_married            0\n",
              "Marital_single             0\n",
              "Education_primary          0\n",
              "Education_secondary        0\n",
              "Education_tertiary         0\n",
              "Communication_None         0\n",
              "Communication_cellular     0\n",
              "Communication_telephone    0\n",
              "LastContactMonth_apr       0\n",
              "LastContactMonth_aug       0\n",
              "LastContactMonth_dec       0\n",
              "LastContactMonth_feb       0\n",
              "LastContactMonth_jan       0\n",
              "LastContactMonth_jul       0\n",
              "LastContactMonth_jun       0\n",
              "LastContactMonth_mar       0\n",
              "LastContactMonth_may       0\n",
              "LastContactMonth_nov       0\n",
              "LastContactMonth_oct       0\n",
              "LastContactMonth_sep       0\n",
              "Outcome_NoPrev             0\n",
              "Outcome_failure            0\n",
              "Outcome_other              0\n",
              "Outcome_success            0\n",
              "dtype: int64"
            ]
          },
          "metadata": {
            "tags": []
          },
          "execution_count": 33
        }
      ]
    },
    {
      "cell_type": "code",
      "metadata": {
        "id": "5mYz8SNaw-A4"
      },
      "source": [
        "train_df = Insurance_Data_final.drop(['Id', 'CarInsurance'], axis=1) #X\n",
        "train_label = Insurance_Data_final['CarInsurance'] #y"
      ],
      "execution_count": null,
      "outputs": []
    },
    {
      "cell_type": "code",
      "metadata": {
        "id": "zu8Xwx0Bw-A4"
      },
      "source": [
        "#random_state is the seed used by the random number generator. It can be any integer.\n",
        "# Train test split\n",
        "X_train, X_test, y_train, y_test = train_test_split(train_df, train_label, train_size=0.7 , stratify=train_label, random_state=100)"
      ],
      "execution_count": null,
      "outputs": []
    },
    {
      "cell_type": "code",
      "metadata": {
        "colab": {
          "base_uri": "https://localhost:8080/"
        },
        "id": "UxcUy8YIw-A5",
        "outputId": "479dd248-d8da-4ce4-b345-581933cbbc64"
      },
      "source": [
        "print(y_train.shape[0]) # 2800, 1123 are 1s and the rest (2800-1123=1677) 0s\n",
        "print(np.sum(y_train))\n",
        "print(y_test.shape[0]) # 1200, 481 are 1s and the rest (1200-481=719) 0s\n",
        "print(np.sum(y_test))"
      ],
      "execution_count": null,
      "outputs": [
        {
          "output_type": "stream",
          "text": [
            "2800\n",
            "1123\n",
            "1200\n",
            "481\n"
          ],
          "name": "stdout"
        }
      ]
    },
    {
      "cell_type": "code",
      "metadata": {
        "colab": {
          "base_uri": "https://localhost:8080/"
        },
        "id": "UfTszpCPw-A5",
        "outputId": "94aaedc8-232a-42a4-f6f5-857e4c1aa1ca"
      },
      "source": [
        "print('Train shape - ', X_train.shape)\n",
        "print('Test shape  - ', X_test.shape)"
      ],
      "execution_count": null,
      "outputs": [
        {
          "output_type": "stream",
          "text": [
            "Train shape -  (2800, 46)\n",
            "Test shape  -  (1200, 46)\n"
          ],
          "name": "stdout"
        }
      ]
    },
    {
      "cell_type": "markdown",
      "metadata": {
        "id": "ZCTZtZzNHKvD"
      },
      "source": [
        " \n",
        "# AdaBoost "
      ]
    },
    {
      "cell_type": "code",
      "metadata": {
        "id": "hQPzLVZyw-A5"
      },
      "source": [
        "# sklearn.ensemble.AdaBoostClassifier(base_estimator=None, *, n_estimators=50, learning_rate=1.0, algorithm='SAMME.R', random_state=None)\n",
        "# from sklearn.ensemble import AdaBoostClassifier\n",
        "\n",
        "# Define Model parameters to tune\n",
        "model_parameters = { 'n_estimators': [100, 200, 300, 400, 500],\n",
        "                    'learning_rate': [0.01, 0.025, 0.05, 0.075, 0.1],\n",
        "                    'algorithm': ['SAMME.R', 'SAMME']}"
      ],
      "execution_count": null,
      "outputs": []
    },
    {
      "cell_type": "code",
      "metadata": {
        "colab": {
          "base_uri": "https://localhost:8080/"
        },
        "id": "0W7lj5ebw-A5",
        "outputId": "03e5fa6f-c433-496b-a276-6ad77fefb00f"
      },
      "source": [
        "# Gridsearch the parameters to find the best parameters.\n",
        "from sklearn.ensemble import AdaBoostClassifier\n",
        "model = AdaBoostClassifier(random_state=1) \n",
        "                                  \n",
        "gscv = GridSearchCV(estimator=model, \n",
        "                    param_grid=model_parameters,\n",
        "                    cv=3,  # 3-Fold Cross Validation\n",
        "                    verbose=3, #To print what it is doing\n",
        "                    n_jobs=-1, #fastest possible depending in the laptop\n",
        "                    scoring='roc_auc') #tell us 1 f1-score per combination\n",
        "\n",
        "\n",
        "gscv.fit(X_train, y_train)"
      ],
      "execution_count": null,
      "outputs": [
        {
          "output_type": "stream",
          "text": [
            "Fitting 3 folds for each of 50 candidates, totalling 150 fits\n"
          ],
          "name": "stdout"
        },
        {
          "output_type": "stream",
          "text": [
            "[Parallel(n_jobs=-1)]: Using backend LokyBackend with 2 concurrent workers.\n",
            "[Parallel(n_jobs=-1)]: Done  28 tasks      | elapsed:   22.6s\n",
            "[Parallel(n_jobs=-1)]: Done 124 tasks      | elapsed:  1.5min\n",
            "[Parallel(n_jobs=-1)]: Done 150 out of 150 | elapsed:  1.9min finished\n"
          ],
          "name": "stderr"
        },
        {
          "output_type": "execute_result",
          "data": {
            "text/plain": [
              "GridSearchCV(cv=3, error_score=nan,\n",
              "             estimator=AdaBoostClassifier(algorithm='SAMME.R',\n",
              "                                          base_estimator=None,\n",
              "                                          learning_rate=1.0, n_estimators=50,\n",
              "                                          random_state=1),\n",
              "             iid='deprecated', n_jobs=-1,\n",
              "             param_grid={'algorithm': ['SAMME.R', 'SAMME'],\n",
              "                         'learning_rate': [0.01, 0.025, 0.05, 0.075, 0.1],\n",
              "                         'n_estimators': [100, 200, 300, 400, 500]},\n",
              "             pre_dispatch='2*n_jobs', refit=True, return_train_score=False,\n",
              "             scoring='roc_auc', verbose=3)"
            ]
          },
          "metadata": {
            "tags": []
          },
          "execution_count": 39
        }
      ]
    },
    {
      "cell_type": "code",
      "metadata": {
        "colab": {
          "base_uri": "https://localhost:8080/"
        },
        "id": "jXZRL_Qqw-A5",
        "outputId": "0d02807b-eb25-4ba3-d3c5-999f48ddcd51"
      },
      "source": [
        "print('The best parameter are -', gscv.best_params_) # .best_params_ starts with dot, ends with _ --> attribute/property of gscv model"
      ],
      "execution_count": null,
      "outputs": [
        {
          "output_type": "stream",
          "text": [
            "The best parameter are - {'algorithm': 'SAMME.R', 'learning_rate': 0.05, 'n_estimators': 400}\n"
          ],
          "name": "stdout"
        }
      ]
    },
    {
      "cell_type": "code",
      "metadata": {
        "colab": {
          "base_uri": "https://localhost:8080/"
        },
        "id": "g8_gWLiew-A6",
        "outputId": "7e7a4dc0-92c9-4a94-fab9-c529e6567259"
      },
      "source": [
        "# More attributes of gscv --> attributes only give info without executing anything\n",
        "print(gscv.best_score_)\n",
        "print(gscv.best_estimator_)\n",
        "print(gscv.scorer_)\n",
        "\n",
        "# . dot and ends with brackets --> methods .fit(), .predict(), .predict_proba()"
      ],
      "execution_count": null,
      "outputs": [
        {
          "output_type": "stream",
          "text": [
            "0.747329094374238\n",
            "AdaBoostClassifier(algorithm='SAMME.R', base_estimator=None, learning_rate=0.05,\n",
            "                   n_estimators=400, random_state=1)\n",
            "make_scorer(roc_auc_score, needs_threshold=True)\n"
          ],
          "name": "stdout"
        }
      ]
    },
    {
      "cell_type": "code",
      "metadata": {
        "colab": {
          "base_uri": "https://localhost:8080/"
        },
        "id": "E3eojINPw-A6",
        "outputId": "4d1f59e9-6582-4c4b-f45b-1bd9dc080a21"
      },
      "source": [
        "print('AUC on train by gscv =', roc_auc_score(y_true=y_train,\n",
        "                                                        y_score=gscv.predict_proba(X_train)[:, 1]))"
      ],
      "execution_count": null,
      "outputs": [
        {
          "output_type": "stream",
          "text": [
            "AUC on train by gscv = 0.773700651685286\n"
          ],
          "name": "stdout"
        }
      ]
    },
    {
      "cell_type": "code",
      "metadata": {
        "colab": {
          "base_uri": "https://localhost:8080/"
        },
        "id": "tUjBH-hGw-A6",
        "outputId": "efe7c90d-8a33-439c-8f4f-f5ff12d79b31"
      },
      "source": [
        "print('AUC on test by gscv =', roc_auc_score(y_true=y_test,\n",
        "                                                        y_score=gscv.predict_proba(X_test)[:, 1]))"
      ],
      "execution_count": null,
      "outputs": [
        {
          "output_type": "stream",
          "text": [
            "AUC on test by gscv = 0.744765627936699\n"
          ],
          "name": "stdout"
        }
      ]
    },
    {
      "cell_type": "markdown",
      "metadata": {
        "id": "vpr2i-SpHC9C"
      },
      "source": [
        "### Gradient Boosting "
      ]
    },
    {
      "cell_type": "code",
      "metadata": {
        "id": "4Osm1Q75HDAD"
      },
      "source": [
        "# sklearn.ensemble.GradientBoostingClassifier\n",
        "from sklearn.ensemble import GradientBoostingClassifier"
      ],
      "execution_count": null,
      "outputs": []
    },
    {
      "cell_type": "code",
      "metadata": {
        "id": "Cw9PKPpuHDLE"
      },
      "source": [
        "model_parameters = { 'n_estimators': [100, 200, 300, 400, 500],\n",
        "                    'learning_rate': [0.01, 0.05, 0.1],\n",
        "                    'max_depth': [1, 2, 3, 4, 5],\n",
        "                    'min_samples_leaf': [1, 20, 30, 50]\n",
        "                    }"
      ],
      "execution_count": null,
      "outputs": []
    },
    {
      "cell_type": "code",
      "metadata": {
        "colab": {
          "base_uri": "https://localhost:8080/"
        },
        "id": "uk3_EWGEHDPB",
        "outputId": "4b9f13d0-9a1f-4898-f0d2-15b148c01227"
      },
      "source": [
        "model = GradientBoostingClassifier(random_state=1)\n",
        "\n",
        "                                \n",
        "gscv = GridSearchCV(estimator=model, \n",
        "                    param_grid=model_parameters, \n",
        "                    cv=3,  # 3-Fold Cross Validation\n",
        "                    verbose=3, #To print what it is doing\n",
        "                    n_jobs=-1, #fastest possible depending in the laptop\n",
        "                    scoring='roc_auc') \n",
        "\n",
        "gscv.fit(X_train, y_train)"
      ],
      "execution_count": null,
      "outputs": [
        {
          "output_type": "stream",
          "text": [
            "Fitting 3 folds for each of 300 candidates, totalling 900 fits\n"
          ],
          "name": "stdout"
        },
        {
          "output_type": "stream",
          "text": [
            "[Parallel(n_jobs=-1)]: Using backend LokyBackend with 2 concurrent workers.\n",
            "[Parallel(n_jobs=-1)]: Done  28 tasks      | elapsed:   10.4s\n",
            "[Parallel(n_jobs=-1)]: Done 124 tasks      | elapsed:   59.9s\n",
            "[Parallel(n_jobs=-1)]: Done 284 tasks      | elapsed:  3.8min\n",
            "[Parallel(n_jobs=-1)]: Done 508 tasks      | elapsed:  6.4min\n",
            "[Parallel(n_jobs=-1)]: Done 796 tasks      | elapsed: 10.4min\n",
            "[Parallel(n_jobs=-1)]: Done 900 out of 900 | elapsed: 12.4min finished\n"
          ],
          "name": "stderr"
        },
        {
          "output_type": "execute_result",
          "data": {
            "text/plain": [
              "GridSearchCV(cv=3, error_score=nan,\n",
              "             estimator=GradientBoostingClassifier(ccp_alpha=0.0,\n",
              "                                                  criterion='friedman_mse',\n",
              "                                                  init=None, learning_rate=0.1,\n",
              "                                                  loss='deviance', max_depth=3,\n",
              "                                                  max_features=None,\n",
              "                                                  max_leaf_nodes=None,\n",
              "                                                  min_impurity_decrease=0.0,\n",
              "                                                  min_impurity_split=None,\n",
              "                                                  min_samples_leaf=1,\n",
              "                                                  min_samples_split=2,\n",
              "                                                  min_weight_fraction_leaf=0.0,\n",
              "                                                  n_estimators=100,\n",
              "                                                  n_iter_no_c...\n",
              "                                                  presort='deprecated',\n",
              "                                                  random_state=1, subsample=1.0,\n",
              "                                                  tol=0.0001,\n",
              "                                                  validation_fraction=0.1,\n",
              "                                                  verbose=0, warm_start=False),\n",
              "             iid='deprecated', n_jobs=-1,\n",
              "             param_grid={'learning_rate': [0.01, 0.05, 0.1],\n",
              "                         'max_depth': [1, 2, 3, 4, 5],\n",
              "                         'min_samples_leaf': [1, 20, 30, 50],\n",
              "                         'n_estimators': [100, 200, 300, 400, 500]},\n",
              "             pre_dispatch='2*n_jobs', refit=True, return_train_score=False,\n",
              "             scoring='roc_auc', verbose=3)"
            ]
          },
          "metadata": {
            "tags": []
          },
          "execution_count": 46
        }
      ]
    },
    {
      "cell_type": "code",
      "metadata": {
        "colab": {
          "base_uri": "https://localhost:8080/"
        },
        "id": "AmIeNUdqHDSE",
        "outputId": "371456d4-97f6-4f41-fa85-e570e2cd1a33"
      },
      "source": [
        "print('The best parameter are -', gscv.best_params_)"
      ],
      "execution_count": null,
      "outputs": [
        {
          "output_type": "stream",
          "text": [
            "The best parameter are - {'learning_rate': 0.05, 'max_depth': 3, 'min_samples_leaf': 20, 'n_estimators': 200}\n"
          ],
          "name": "stdout"
        }
      ]
    },
    {
      "cell_type": "code",
      "metadata": {
        "colab": {
          "base_uri": "https://localhost:8080/"
        },
        "id": "B3PX5S5vkvgK",
        "outputId": "8b59cdc6-b806-49db-9b3f-5e2657b7df6a"
      },
      "source": [
        "print('AUC on train by gscv =', roc_auc_score(y_true=y_train,\n",
        "                                                        y_score=gscv.predict_proba(X_train)[:, 1]))"
      ],
      "execution_count": null,
      "outputs": [
        {
          "output_type": "stream",
          "text": [
            "AUC on train by gscv = 0.8324258696703768\n"
          ],
          "name": "stdout"
        }
      ]
    },
    {
      "cell_type": "code",
      "metadata": {
        "colab": {
          "base_uri": "https://localhost:8080/"
        },
        "id": "W3L6O0EOk4Ar",
        "outputId": "f4ca46fd-8655-4aac-add1-a416f90dc84d"
      },
      "source": [
        "print('AUC on test by gscv =', roc_auc_score(y_true=y_test,\n",
        "                                                        y_score=gscv.predict_proba(X_test)[:, 1]))"
      ],
      "execution_count": null,
      "outputs": [
        {
          "output_type": "stream",
          "text": [
            "AUC on test by gscv = 0.7636443547431032\n"
          ],
          "name": "stdout"
        }
      ]
    },
    {
      "cell_type": "code",
      "metadata": {
        "id": "9hMiEr33laSe"
      },
      "source": [
        "# XGBoost - not included in the sklearn package, XGBoost is a standalone package\n",
        "# But the good thing is that XGBoost provides a way to use it with sklearn"
      ],
      "execution_count": null,
      "outputs": []
    },
    {
      "cell_type": "markdown",
      "metadata": {
        "id": "SFGXlcYkE8Gt"
      },
      "source": [
        "### XGBoosting"
      ]
    },
    {
      "cell_type": "code",
      "metadata": {
        "id": "z-WLrPqxlcZd"
      },
      "source": [
        "from xgboost import XGBClassifier"
      ],
      "execution_count": null,
      "outputs": []
    },
    {
      "cell_type": "code",
      "metadata": {
        "id": "G2nPjKdplcc3"
      },
      "source": [
        "model_parameters = { 'n_estimators': [100, 200, 300, 400, 500],\n",
        "                    'learning_rate': [0.01, 0.05, 0.1],\n",
        "                    'max_depth': [1, 2, 3, 4, 5],\n",
        "                    'min_samples_leaf': [1, 20, 30, 50]\n",
        "                    }"
      ],
      "execution_count": null,
      "outputs": []
    },
    {
      "cell_type": "code",
      "metadata": {
        "colab": {
          "base_uri": "https://localhost:8080/"
        },
        "id": "skZRpBD_lchb",
        "outputId": "5c36f948-fc51-4116-a097-36c27cd6c436"
      },
      "source": [
        "model = XGBClassifier(random_state=1)\n",
        "\n",
        "gscv = GridSearchCV(estimator=model, \n",
        "                    param_grid=model_parameters, \n",
        "                    cv=3,  # 3-Fold Cross Validation\n",
        "                    verbose=3, #To print what it is doing\n",
        "                    n_jobs=-1, #fastest possible depending in the laptop\n",
        "                    scoring='roc_auc') #tell us 1 f1-score per combination\n",
        "\n",
        "gscv.fit(X_train, y_train)"
      ],
      "execution_count": null,
      "outputs": [
        {
          "output_type": "stream",
          "text": [
            "Fitting 3 folds for each of 300 candidates, totalling 900 fits\n"
          ],
          "name": "stdout"
        },
        {
          "output_type": "stream",
          "text": [
            "[Parallel(n_jobs=-1)]: Using backend LokyBackend with 2 concurrent workers.\n",
            "[Parallel(n_jobs=-1)]: Done  28 tasks      | elapsed:    8.0s\n",
            "[Parallel(n_jobs=-1)]: Done 124 tasks      | elapsed:   42.6s\n",
            "[Parallel(n_jobs=-1)]: Done 284 tasks      | elapsed:  2.5min\n",
            "[Parallel(n_jobs=-1)]: Done 508 tasks      | elapsed:  4.3min\n",
            "[Parallel(n_jobs=-1)]: Done 796 tasks      | elapsed:  6.9min\n",
            "[Parallel(n_jobs=-1)]: Done 900 out of 900 | elapsed:  8.2min finished\n"
          ],
          "name": "stderr"
        },
        {
          "output_type": "execute_result",
          "data": {
            "text/plain": [
              "GridSearchCV(cv=3, error_score=nan,\n",
              "             estimator=XGBClassifier(base_score=0.5, booster='gbtree',\n",
              "                                     colsample_bylevel=1, colsample_bynode=1,\n",
              "                                     colsample_bytree=1, gamma=0,\n",
              "                                     learning_rate=0.1, max_delta_step=0,\n",
              "                                     max_depth=3, min_child_weight=1,\n",
              "                                     missing=None, n_estimators=100, n_jobs=1,\n",
              "                                     nthread=None, objective='binary:logistic',\n",
              "                                     random_state=1, reg_alpha=0, reg_lambda=1,\n",
              "                                     scale_pos_weight=1, seed=None, silent=None,\n",
              "                                     subsample=1, verbosity=1),\n",
              "             iid='deprecated', n_jobs=-1,\n",
              "             param_grid={'learning_rate': [0.01, 0.05, 0.1],\n",
              "                         'max_depth': [1, 2, 3, 4, 5],\n",
              "                         'min_samples_leaf': [1, 20, 30, 50],\n",
              "                         'n_estimators': [100, 200, 300, 400, 500]},\n",
              "             pre_dispatch='2*n_jobs', refit=True, return_train_score=False,\n",
              "             scoring='roc_auc', verbose=3)"
            ]
          },
          "metadata": {
            "tags": []
          },
          "execution_count": 53
        }
      ]
    },
    {
      "cell_type": "code",
      "metadata": {
        "colab": {
          "base_uri": "https://localhost:8080/"
        },
        "id": "nxjEWpsSlck-",
        "outputId": "42791307-f12e-4d4f-f5e7-1f78ffbc2e16"
      },
      "source": [
        "print('The best parameter are -', gscv.best_params_)"
      ],
      "execution_count": null,
      "outputs": [
        {
          "output_type": "stream",
          "text": [
            "The best parameter are - {'learning_rate': 0.05, 'max_depth': 4, 'min_samples_leaf': 1, 'n_estimators': 200}\n"
          ],
          "name": "stdout"
        }
      ]
    },
    {
      "cell_type": "code",
      "metadata": {
        "colab": {
          "base_uri": "https://localhost:8080/"
        },
        "id": "eX8PVDhUlcoR",
        "outputId": "adcffaf4-7df9-4c73-fe7f-27f13f870c90"
      },
      "source": [
        "print(gscv.best_score_)\n",
        "print(gscv.best_estimator_)\n",
        "print(gscv.scorer_)"
      ],
      "execution_count": null,
      "outputs": [
        {
          "output_type": "stream",
          "text": [
            "0.7591992363921228\n",
            "XGBClassifier(base_score=0.5, booster='gbtree', colsample_bylevel=1,\n",
            "              colsample_bynode=1, colsample_bytree=1, gamma=0,\n",
            "              learning_rate=0.05, max_delta_step=0, max_depth=4,\n",
            "              min_child_weight=1, min_samples_leaf=1, missing=None,\n",
            "              n_estimators=200, n_jobs=1, nthread=None,\n",
            "              objective='binary:logistic', random_state=1, reg_alpha=0,\n",
            "              reg_lambda=1, scale_pos_weight=1, seed=None, silent=None,\n",
            "              subsample=1, verbosity=1)\n",
            "make_scorer(roc_auc_score, needs_threshold=True)\n"
          ],
          "name": "stdout"
        }
      ]
    },
    {
      "cell_type": "code",
      "metadata": {
        "colab": {
          "base_uri": "https://localhost:8080/"
        },
        "id": "UrwbzcOnwAlB",
        "outputId": "ab07151f-bb12-4a28-bb0f-4a532be630e0"
      },
      "source": [
        "print('AUC on train by gscv =', roc_auc_score(y_true=y_train,\n",
        "                                                        y_score=gscv.predict_proba(X_train)[:, 1]))"
      ],
      "execution_count": null,
      "outputs": [
        {
          "output_type": "stream",
          "text": [
            "AUC on train by gscv = 0.8648301280060066\n"
          ],
          "name": "stdout"
        }
      ]
    },
    {
      "cell_type": "code",
      "metadata": {
        "colab": {
          "base_uri": "https://localhost:8080/"
        },
        "id": "sciPLjEywAwv",
        "outputId": "b8b453e8-2550-448d-e6d3-f475ff70a730"
      },
      "source": [
        "print('AUC on test by gscv =', roc_auc_score(y_true=y_test,\n",
        "                                                        y_score=gscv.predict_proba(X_test)[:, 1]))"
      ],
      "execution_count": null,
      "outputs": [
        {
          "output_type": "stream",
          "text": [
            "AUC on test by gscv = 0.7617923368966484\n"
          ],
          "name": "stdout"
        }
      ]
    },
    {
      "cell_type": "code",
      "metadata": {
        "id": "f3d_Wttpw9AP"
      },
      "source": [
        "# XGBoost speed of performance on small data is comparable to the speed of performance of Sklearn's Gradient Boosting on the same small data.\n",
        "# While XGBoost can do Gradient Boosting on Big Data (100s of TeraBytes, TBs), Sklearn's Gradient Boosting cannot even handle this\n",
        "# much of data,  it let away speed of performance/processing."
      ],
      "execution_count": null,
      "outputs": []
    }
  ]
}